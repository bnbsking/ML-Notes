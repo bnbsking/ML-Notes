{
 "cells": [
  {
   "attachments": {},
   "cell_type": "markdown",
   "metadata": {},
   "source": [
    "### optimizers"
   ]
  },
  {
   "cell_type": "code",
   "execution_count": 2,
   "metadata": {},
   "outputs": [],
   "source": [
    "import torch\n",
    "import math"
   ]
  },
  {
   "cell_type": "code",
   "execution_count": 2,
   "metadata": {},
   "outputs": [],
   "source": [
    "def get_optimizer(model, optim_algo:str):\n",
    "    if optim_algo.lower()=='adam':\n",
    "        epochs, lr_scheduler = 200, 'sine'\n",
    "        optimizer = torch.optim.Adam(model.parameters(), lr=1e-4)\n",
    "        lr_schedulerD = {\\\n",
    "            \"none\": lambda x: x,\n",
    "            \"linear\": lambda x: (1 - x / (epochs - 1)) * (1.0 - 0.1) + 0.1,\n",
    "            \"sine\": lambda x: 1 - 0.9 * math.sin(0.5*math.pi*x/epochs)\n",
    "        }\n",
    "        scheduler = torch.optim.lr_scheduler.LambdaLR(optimizer, lr_lambda=lr_schedulerD[lr_scheduler])\n",
    "        return optimizer, scheduler\n",
    "    elif optim_algo.lower()=='adamw':\n",
    "        optimizer = torch.optim.AdamW(model.parameters(), lr=1e-4, weight_decay=2e-5)\n",
    "        scheduler = torch.optim.lr_scheduler.StepLR(optimizer, step_size=50, gamma=0.5)\n",
    "        return optimizer, scheduler"
   ]
  },
  {
   "cell_type": "code",
   "execution_count": null,
   "metadata": {},
   "outputs": [],
   "source": [
    "\"\"\"\n",
    "for i in range(epochs):\n",
    "    for x, y in loader:\n",
    "        x, y = x.to(device), y.to(device)\n",
    "        opitmizer.zero_grad()\n",
    "        pred = model(x)\n",
    "        loss = loss_func(pred, y)\n",
    "        loss.backward()\n",
    "        optimizer.step()\n",
    "    scheduler.step()\n",
    "\"\"\""
   ]
  }
 ],
 "metadata": {
  "kernelspec": {
   "display_name": "test",
   "language": "python",
   "name": "python3"
  },
  "language_info": {
   "codemirror_mode": {
    "name": "ipython",
    "version": 3
   },
   "file_extension": ".py",
   "mimetype": "text/x-python",
   "name": "python",
   "nbconvert_exporter": "python",
   "pygments_lexer": "ipython3",
   "version": "3.8.16"
  },
  "vscode": {
   "interpreter": {
    "hash": "4de884d891615765edd271cb3c15e2a75ba9303f259ba1474785180bf9788ba0"
   }
  }
 },
 "nbformat": 4,
 "nbformat_minor": 4
}
