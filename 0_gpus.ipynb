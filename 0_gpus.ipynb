{
 "cells": [
  {
   "attachments": {},
   "cell_type": "markdown",
   "id": "ba21b0f3",
   "metadata": {},
   "source": [
    "### CUDA\n",
    "+ Packages:\n",
    "    driver can't exist multiple versions but cudatoolkit can\n",
    "    | package | command | function | version |\n",
    "    | - | - | - | - |\n",
    "    | CUDA driver by NVIDIA | nvidia-smi | show driver version and lastest cudatoolkit version | e.g. 470.xxx |\n",
    "    | cudatoolkit by NVIDIA | nvcc --version | complete package includes bin and lib | e.g. /usr/local/cuda-11.2 |\n",
    "    | cudatoolkit by Conda  | conda list cudatoolkit \\| torch.version.cuda | Dynamic lib without bin for DL | e.g. ~/miniconda3/pkgs/cudatoolkit-10.1.243 |\n",
    "    \n",
    "+ Installation: Install 1 and 3 and is enough for DL\n",
    "    1. [NVIDIA driver](https://docs.nvidia.com/datacenter/tesla/tesla-installation-notes/index.html)\n",
    "    2. [NVIDIA cudatoolkit](https://developer.nvidia.com/cuda-downloads?target_os=Linux&target_arch=x86_64&Distribution=Ubuntu&target_version=20.04&target_type=deb_local)\n",
    "    3. [conda cudatoolkit+Pytorch](https://pytorch.org/get-started/previous-versions/)\n",
    "\n",
    "+ Env path:\n",
    "    | paths had to be set | meaning | e.g. |\n",
    "    | - | - | - |\n",
    "    | CUDA_HOME > CUDA_PATH > /usr/local/cuda* | cudatoolkit path | /usr/local/cuda* |\n",
    "    | PATH | cudatoolkit path | /usr/local/cuda* |\n",
    "    | LD_LIBRARY_PATH | compiling lib path | /usr/local/cuda*/lib64 |\n",
    "\n",
    "+ Pip:\n",
    "    + /usr/lib/python3/dist-packages: sudo apt install python-numpy\n",
    "    + /usr/local/lib/python3.6/dist-packages: sudo pip install numpy\n",
    "    + ~/.local/lib/python3.6/site-packages: pip install numpy\n",
    "    + Base env will share its packages to all envs. Do conda install -n <envs> pip to seperate packages in new env.\n",
    "\n",
    "+ Reference:\n",
    "    + [cuda和cudatoolkit](https://iter01.com/561967.html)\n",
    "    + [Installing Multiple CUDA & cuDNN Versions in Ubuntu](https://towardsdatascience.com/installing-multiple-cuda-cudnn-versions-in-ubuntu-fcb6aa5194e2)"
   ]
  },
  {
   "cell_type": "markdown",
   "id": "81f0f1e8",
   "metadata": {},
   "source": [
    "### Device"
   ]
  },
  {
   "cell_type": "code",
   "execution_count": 4,
   "id": "af2de715",
   "metadata": {},
   "outputs": [
    {
     "name": "stdout",
     "output_type": "stream",
     "text": [
      "True True NVIDIA GeForce GTX 1650 with Max-Q Design\n",
      "cuda\n"
     ]
    }
   ],
   "source": [
    "import torch\n",
    "import numpy as np\n",
    "\n",
    "print(torch.cuda.is_available(), torch.backends.cudnn.is_available(), torch.cuda.get_device_name(0))\n",
    "device = torch.device('cuda')\n",
    "print(device)"
   ]
  },
  {
   "cell_type": "code",
   "execution_count": null,
   "id": "79631780",
   "metadata": {},
   "outputs": [],
   "source": []
  }
 ],
 "metadata": {
  "kernelspec": {
   "display_name": "Python 3",
   "language": "python",
   "name": "python3"
  },
  "language_info": {
   "codemirror_mode": {
    "name": "ipython",
    "version": 3
   },
   "file_extension": ".py",
   "mimetype": "text/x-python",
   "name": "python",
   "nbconvert_exporter": "python",
   "pygments_lexer": "ipython3",
   "version": "3.9.6"
  },
  "vscode": {
   "interpreter": {
    "hash": "31f2aee4e71d21fbe5cf8b01ff0e069b9275f58929596ceb00d14d90e3e16cd6"
   }
  }
 },
 "nbformat": 4,
 "nbformat_minor": 5
}
