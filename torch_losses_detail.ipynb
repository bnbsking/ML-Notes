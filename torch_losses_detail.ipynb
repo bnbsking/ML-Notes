{
 "cells": [
  {
   "cell_type": "code",
   "execution_count": 1,
   "id": "893aff55",
   "metadata": {},
   "outputs": [
    {
     "name": "stderr",
     "output_type": "stream",
     "text": [
      "/opt/conda/lib/python3.8/site-packages/tqdm/auto.py:22: TqdmWarning: IProgress not found. Please update jupyter and ipywidgets. See https://ipywidgets.readthedocs.io/en/stable/user_install.html\n",
      "  from .autonotebook import tqdm as notebook_tqdm\n"
     ]
    }
   ],
   "source": [
    "from math import e, log\n",
    "import numpy as np\n",
    "import torch"
   ]
  },
  {
   "cell_type": "markdown",
   "id": "a27739aa",
   "metadata": {},
   "source": [
    "### CE and BCE\n",
    "common arguments\n",
    "+ reduction: return () or (B,) tensor\n",
    "+ weight: weight of each class"
   ]
  },
  {
   "cell_type": "code",
   "execution_count": 8,
   "id": "4f180c62",
   "metadata": {},
   "outputs": [
    {
     "name": "stdout",
     "output_type": "stream",
     "text": [
      "tensor(0.6809)\n",
      "tensor(0.6809)\n",
      "---math below---\n",
      "0.6809245195459824\n"
     ]
    }
   ],
   "source": [
    "# CE # pd must be 2-d\n",
    "pd = torch.tensor([[1,2], [3,6]], dtype=torch.float32)\n",
    "gt1 = torch.tensor([0,1], dtype=torch.long)\n",
    "gt2 = torch.tensor([[1,0], [0,1]], dtype=torch.float32)\n",
    "print(torch.nn.CrossEntropyLoss()(pd, gt1))\n",
    "print(torch.nn.CrossEntropyLoss()(pd, gt2))\n",
    "\n",
    "print('---math below---')\n",
    "softmax_prob = np.array([\n",
    "    np.array([e**1, e**2]) / (e**1+e**2),\n",
    "    np.array([e**3, e**6]) / (e**3+e**6),\n",
    "])\n",
    "print( -log(softmax_prob[0][0])*0.5 - log(softmax_prob[1][1])*0.5 ) # 0.5 is 1/classes"
   ]
  },
  {
   "cell_type": "code",
   "execution_count": 40,
   "id": "bff9df2e",
   "metadata": {
    "scrolled": false
   },
   "outputs": [
    {
     "name": "stdout",
     "output_type": "stream",
     "text": [
      "tensor(0.2201)\n",
      "tensor(0.2201)\n",
      "---math below---\n",
      "0.22009484928059772\n"
     ]
    }
   ],
   "source": [
    "# BCE # pd always be reshaped to 1-d, gt must has same type and shape with pd\n",
    "pd1 = torch.tensor([-1,2], dtype=torch.float32)\n",
    "gt1 = torch.tensor([0,1], dtype=torch.float32)\n",
    "pd2 = torch.tensor([[-1,2]], dtype=torch.float32)\n",
    "gt2 = torch.tensor([[0,1]], dtype=torch.float32)\n",
    "print(torch.nn.BCEWithLogitsLoss()(pd1, gt1))\n",
    "print(torch.nn.BCEWithLogitsLoss()(pd2, gt2))\n",
    "\n",
    "print('---math below---')\n",
    "sigmoid_prob = np.array([\n",
    "    1 / (1+e**1),\n",
    "    1 / (1+e**-2),\n",
    "])\n",
    "print( -log(1-sigmoid_prob[0])*0.5 - log(sigmoid_prob[1])*0.5 )"
   ]
  },
  {
   "cell_type": "code",
   "execution_count": 46,
   "id": "ce662d8b",
   "metadata": {},
   "outputs": [
    {
     "name": "stdout",
     "output_type": "stream",
     "text": [
      "tensor(0.5133)\n",
      "---math below---\n",
      "0.513261687518223\n"
     ]
    }
   ],
   "source": [
    "# CE soft labeling\n",
    "pd = torch.tensor([[1,2]], dtype=torch.float32)\n",
    "gt = torch.tensor([[0.2,0.8]], dtype=torch.float32)\n",
    "print(torch.nn.CrossEntropyLoss()(pd, gt))\n",
    "\n",
    "print('---math below---')\n",
    "softmax_prob = np.array([\n",
    "    np.array([e**1, e**2]) / (e**1+e**2),\n",
    "])\n",
    "print( -0.2*log(softmax_prob[0][0]) -0.8*log(softmax_prob[0][1]) )"
   ]
  },
  {
   "cell_type": "code",
   "execution_count": 54,
   "id": "4b149769",
   "metadata": {},
   "outputs": [
    {
     "name": "stdout",
     "output_type": "stream",
     "text": [
      "tensor(0.5133)\n",
      "---math below---\n",
      "0.5132616875182228\n"
     ]
    }
   ],
   "source": [
    "# BCE soft labeling\n",
    "pd = torch.tensor([1], dtype=torch.float32)\n",
    "gt = torch.tensor([0.8], dtype=torch.float32)\n",
    "print(torch.nn.BCEWithLogitsLoss()(pd, gt))\n",
    "\n",
    "print('---math below---')\n",
    "sigmoid_prob = np.array([\n",
    "    1 / (1+e**-1)\n",
    "])\n",
    "print( -log(sigmoid_prob[0])*0.8 - log(1-sigmoid_prob[0])*0.2 )"
   ]
  },
  {
   "cell_type": "markdown",
   "id": "e14b564c",
   "metadata": {},
   "source": [
    "### Pretrained weights"
   ]
  },
  {
   "cell_type": "code",
   "execution_count": 15,
   "id": "355e1c5c",
   "metadata": {
    "scrolled": false
   },
   "outputs": [
    {
     "name": "stdout",
     "output_type": "stream",
     "text": [
      "Layer: conv1.weight, Size: torch.Size([64, 3, 7, 7]), Values: tensor([ 0.0105,  0.0165, -0.0612,  0.0307,  0.0062,  0.0787, -0.0269,  0.0174,\n",
      "         0.0621,  0.0029])\n",
      "Layer: conv1.weight, Size: torch.Size([64, 3, 7, 7]), Values: tensor([-0.0079, -0.0252,  0.0107, -0.0206, -0.0586,  0.0011,  0.0236,  0.0040,\n",
      "         0.0080,  0.0305])\n",
      "Layer: conv1.weight, Size: torch.Size([64, 3, 7, 7]), Values: tensor([-0.0104, -0.0061, -0.0018,  0.0748,  0.0566,  0.0171, -0.0127,  0.0111,\n",
      "         0.0095, -0.1099])\n"
     ]
    }
   ],
   "source": [
    "from torchvision.models import resnet18\n",
    "import torch\n",
    "\n",
    "T = torch.randn(1,3,224,224)\n",
    "model = resnet18()\n",
    "for name, param in model.named_parameters():\n",
    "    print(f\"Layer: {name}, Size: {param.size()}, Values: {param.data.reshape(-1)[:10]}\")\n",
    "    break\n",
    "    \n",
    "model = resnet18(weights=None)\n",
    "for name, param in model.named_parameters():\n",
    "    print(f\"Layer: {name}, Size: {param.size()}, Values: {param.data.reshape(-1)[:10]}\")\n",
    "    break\n",
    "    \n",
    "model = resnet18(weights='IMAGENET1K_V1')\n",
    "for name, param in model.named_parameters():\n",
    "    print(f\"Layer: {name}, Size: {param.size()}, Values: {param.data.reshape(-1)[:10]}\")\n",
    "    break"
   ]
  },
  {
   "cell_type": "code",
   "execution_count": null,
   "id": "eeeb1839",
   "metadata": {},
   "outputs": [],
   "source": []
  },
  {
   "cell_type": "code",
   "execution_count": null,
   "id": "ee41968d",
   "metadata": {},
   "outputs": [],
   "source": []
  }
 ],
 "metadata": {
  "kernelspec": {
   "display_name": "Python 3 (ipykernel)",
   "language": "python",
   "name": "python3"
  },
  "language_info": {
   "codemirror_mode": {
    "name": "ipython",
    "version": 3
   },
   "file_extension": ".py",
   "mimetype": "text/x-python",
   "name": "python",
   "nbconvert_exporter": "python",
   "pygments_lexer": "ipython3",
   "version": "3.8.13"
  }
 },
 "nbformat": 4,
 "nbformat_minor": 5
}
