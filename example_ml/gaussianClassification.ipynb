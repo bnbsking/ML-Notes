{
 "cells": [
  {
   "cell_type": "code",
   "execution_count": 1,
   "id": "6515350e",
   "metadata": {},
   "outputs": [],
   "source": [
    "import matplotlib.pyplot as plt\n",
    "import numpy as np\n",
    "from math import pi, e"
   ]
  },
  {
   "cell_type": "markdown",
   "id": "f0139718",
   "metadata": {},
   "source": [
    "### 1-D binary classification by Gaussian distribution\n",
    "### Maximum likelihood estimation (MLE)"
   ]
  },
  {
   "cell_type": "code",
   "execution_count": 2,
   "id": "3269ba3c",
   "metadata": {},
   "outputs": [
    {
     "data": {
      "image/png": "[encoded data removed]",
      "text/plain": [
       "<Figure size 288x216 with 1 Axes>"
      ]
     },
     "metadata": {},
     "output_type": "display_data"
    }
   ],
   "source": [
    "# step 1: get data\n",
    "X     = np.array([0, 1, 2, 3, 3.1, 4, 5, 6] + [-1, 2.5, 3.5, 7])\n",
    "yTrue = np.array([0, 0, 0, 1, 0,   1, 1, 1] + [ 0,   0,   1, 1])\n",
    "\n",
    "# step 2: split to train, val\n",
    "XTrain     = X[:8]\n",
    "yTrueTrain = yTrue[:8]\n",
    "XVal       = X[8:]\n",
    "yTrueVal   = yTrue[8:]\n",
    "\n",
    "fig = plt.figure(figsize=(4,3))\n",
    "fig.set_facecolor(\"orange\")\n",
    "# yTrueTrain==0 # [True True True False True False False False]\n",
    "# XTrain[yTrueTrain==0] # [0,1,2,3.1]\n",
    "# (yTrueTrain==0).sum() # 4\n",
    "plt.scatter( XTrain[yTrueTrain==0], [\"train\"]*(yTrueTrain==0).sum() ) # train - class 0 # blue\n",
    "plt.scatter( XTrain[yTrueTrain==1], [\"train\"]*(yTrueTrain==1).sum() ) # train - class 1 # orange\n",
    "plt.scatter( XVal  [yTrueVal  ==0], [\"val\"  ]*(yTrueVal  ==0).sum() ) # val - class 0 # green\n",
    "plt.scatter( XVal  [yTrueVal  ==1], [\"val\"  ]*(yTrueVal  ==1).sum() ) # val - class 1 # red\n",
    "plt.legend(labels=[\"train-class0\",\"train-class1\",\"val-class0\",\"val-class1\"])\n",
    "plt.xlabel(\"data X\", fontsize=16)\n",
    "plt.show()"
   ]
  },
  {
   "cell_type": "code",
   "execution_count": 6,
   "id": "a02c80de",
   "metadata": {},
   "outputs": [
    {
     "name": "stdout",
     "output_type": "stream",
     "text": [
      "[False False False  True  True]\n",
      "[4 5]\n",
      "[4 5]\n"
     ]
    }
   ],
   "source": [
    "A = np.array([1,2,3,4,5])\n",
    "print( A>3 )\n",
    "print( A[ [False, False, False, True, True] ] )\n",
    "print( A[ A>3 ] )"
   ]
  },
  {
   "cell_type": "code",
   "execution_count": 12,
   "id": "a2f1b53c",
   "metadata": {},
   "outputs": [
    {
     "data": {
      "image/png": "[encoded data removed]",
      "text/plain": [
       "<Figure size 288x216 with 1 Axes>"
      ]
     },
     "metadata": {},
     "output_type": "display_data"
    }
   ],
   "source": [
    "fig = plt.figure(figsize=(4,3))\n",
    "fig.set_facecolor(\"orange\")\n",
    "plt.scatter([1,2,3], [\"a\",\"a\",\"b\"])\n",
    "plt.show()"
   ]
  },
  {
   "cell_type": "code",
   "execution_count": 13,
   "id": "5e714b32",
   "metadata": {},
   "outputs": [
    {
     "data": {
      "image/png": "[encoded data removed]",
      "text/plain": [
       "<Figure size 288x216 with 1 Axes>"
      ]
     },
     "metadata": {},
     "output_type": "display_data"
    }
   ],
   "source": [
    "# step 3: create model\n",
    "# step 4: define loss function L\n",
    "# step 5: find best mu,si to minimize L\n",
    "\n",
    "# after some mathematical derivation, the result is equivalent to:\n",
    "# G0 based on class0 - mu = mean(XTrain where yTrain==0), sig = std(XTrain where yTrain==0)\n",
    "# G1 based on class1 - mu = mean(XTrain where yTrain==1), sig = std(XTrain where yTrain==1)\n",
    "# if model0.predict(y) > model1.predict(y): class 0\n",
    "# else model0.predict(y) < model1.predict(y): class 1\n",
    "\n",
    "def Gauss(x, mu, si):\n",
    "    return 1/(2*pi*si)**0.5 * e**(-0.5*(x-mu)**2/si**2)\n",
    "\n",
    "Xi = np.linspace(-3,3,100)\n",
    "y1 = Gauss(Xi,   0, 1)\n",
    "y2 = Gauss(Xi, 0.5, 1)\n",
    "y3 = Gauss(Xi, 0  , 2)\n",
    "\n",
    "fig = plt.figure(figsize=(4,3))\n",
    "fig.set_facecolor(\"orange\")\n",
    "plt.plot(Xi, y1)\n",
    "plt.plot(Xi, y2)\n",
    "plt.plot(Xi, y3)\n",
    "plt.legend(labels=[\"normal\",\"y2\",\"y3\"])\n",
    "plt.grid('on')\n",
    "plt.show()"
   ]
  },
  {
   "cell_type": "code",
   "execution_count": 21,
   "id": "09eaad72",
   "metadata": {
    "scrolled": true
   },
   "outputs": [
    {
     "name": "stdout",
     "output_type": "stream",
     "text": [
      "XTrain [0.  1.  2.  3.  3.1 4.  5.  6. ]\n",
      "XTrainC0 [0.  1.  2.  3.1]\n",
      "XTrainC1 [3. 4. 5. 6.]\n"
     ]
    }
   ],
   "source": [
    "class Model:\n",
    "    def __init__(self, mu0, si0, mu1, si1):\n",
    "        self.mu0, self.si0, self.mu1, self.si1 = mu0, si0, mu1, si1\n",
    "    def predict(self, x):\n",
    "        return Gauss(x, self.mu0, self.si0) - Gauss(x, self.mu1, self.si1)\n",
    "\n",
    "print(\"XTrain\", XTrain)\n",
    "XTrainC0 = XTrain[yTrueTrain==0]\n",
    "XTrainC1 = XTrain[yTrueTrain==1]\n",
    "print(\"XTrainC0\", XTrainC0) # blue dots\n",
    "print(\"XTrainC1\", XTrainC1) # orange dots\n",
    "\n",
    "mu0 = XTrainC0.mean() # 1.525\n",
    "si0 = XTrainC0.std() # 1.15\n",
    "mu1 = XTrainC1.mean() # 4.5\n",
    "si1 = XTrainC1.std() # 1.118\n",
    "\n",
    "model = Model(mu0, si0, mu1, si1) # complete model"
   ]
  },
  {
   "cell_type": "code",
   "execution_count": 22,
   "id": "243c2693",
   "metadata": {},
   "outputs": [
    {
     "name": "stdout",
     "output_type": "stream",
     "text": [
      "[-1.   2.5  3.5  7. ]\n",
      "[0 0 1 1]\n"
     ]
    }
   ],
   "source": [
    "print(XVal)\n",
    "print(yTrueVal)"
   ]
  },
  {
   "cell_type": "code",
   "execution_count": 26,
   "id": "54806162",
   "metadata": {},
   "outputs": [
    {
     "name": "stdout",
     "output_type": "stream",
     "text": [
      "yPredValScore: [ 0.03363446  0.1836196  -0.16743153 -0.03096575]\n",
      "yPredVal: [0 0 1 1]\n",
      "yTrueVal: [0 0 1 1]\n",
      "accuracy: 1.0\n"
     ]
    }
   ],
   "source": [
    "# step 6: predict\n",
    "yPredValScore = model.predict(XVal)\n",
    "print( \"yPredValScore:\", yPredValScore )\n",
    "\n",
    "yPredVal = np.array([ 0 if score>0 else 1 for score in yPredValScore ])\n",
    "print( \"yPredVal:\", yPredVal )\n",
    "print( \"yTrueVal:\", yTrueVal )\n",
    "\n",
    "# (yPredVal==yTrueVal)=[True True True True]\n",
    "accuracy = (yPredVal==yTrueVal).sum() / len(yTrueVal)\n",
    "print( \"accuracy:\", accuracy )"
   ]
  },
  {
   "cell_type": "code",
   "execution_count": 28,
   "id": "de43d077",
   "metadata": {},
   "outputs": [
    {
     "name": "stdout",
     "output_type": "stream",
     "text": [
      "0 0\n",
      "0 0\n",
      "1 1\n",
      "1 1\n",
      "Confusion matrix:\n",
      " [[2. 0.]\n",
      " [0. 2.]]\n"
     ]
    }
   ],
   "source": [
    "# binary classification: 4 result\n",
    "# Pred class 0, GT class 0 -> correct C[0][0]\n",
    "# Pred class 0; GT class 1 -> error   C[0][1]\n",
    "# Pred class 1; GT class 0 -> error   C[1][0]\n",
    "# Pred class 1; GT class 1 -> correct C[1][1]\n",
    "# confusion matrix\n",
    "\n",
    "C = np.zeros( (2,2) ) # [[0 0] [0 0]]\n",
    "for yPred,yTrue in zip(yPredVal, yTrueVal):\n",
    "    print(yPred, yTrue)\n",
    "    C[yPred][yTrue]+=1 # [[1 0] [0 0]] # [[2 0] [0 0]] # [[2 0] [0 1]] # [[2 0] [0 2]]\n",
    "print(\"Confusion matrix:\\n\", C)"
   ]
  },
  {
   "cell_type": "code",
   "execution_count": 29,
   "id": "0df985ad",
   "metadata": {},
   "outputs": [
    {
     "name": "stdout",
     "output_type": "stream",
     "text": [
      "[ 0.   1.   2.   3.   3.1  4.   5.   6.  -1.   2.5  3.5  7. ]\n"
     ]
    }
   ],
   "source": [
    "print(X)"
   ]
  },
  {
   "cell_type": "code",
   "execution_count": 34,
   "id": "b24d80c6",
   "metadata": {},
   "outputs": [
    {
     "data": {
      "image/png": "[encoded data removed]",
      "text/plain": [
       "<Figure size 288x216 with 1 Axes>"
      ]
     },
     "metadata": {},
     "output_type": "display_data"
    }
   ],
   "source": [
    "Xi = np.linspace( X.min(), X.max(), 100 ) # 0 ~ 7\n",
    "yi = model.predict(Xi)\n",
    "\n",
    "yi = (yi-yi.min())/(yi.max()-yi.min()) # normalize: max=1, min=0\n",
    "\n",
    "fig = plt.figure(figsize=(4,3))\n",
    "fig.set_facecolor(\"orange\")\n",
    "plt.plot(Xi,yi)\n",
    "plt.grid('on')\n",
    "plt.xlabel('data X')\n",
    "plt.ylabel('class score')\n",
    "plt.show()"
   ]
  },
  {
   "cell_type": "code",
   "execution_count": 41,
   "id": "712e5c45",
   "metadata": {},
   "outputs": [
    {
     "name": "stdout",
     "output_type": "stream",
     "text": [
      "5\n",
      "1\n",
      "[0.04872199 0.05627916 0.06476319 0.07423021 0.08472943 0.09630102\n",
      " 0.10897394 0.12276371 0.13767028 0.15367597 0.17074355 0.18881471\n",
      " 0.20780876 0.22762182 0.24812646 0.26917189 0.29058476 0.31217053\n",
      " 0.33371552 0.35498944 0.37574861 0.3957396  0.41470327 0.4323792\n",
      " 0.44851022 0.46284704 0.47515285 0.48520768 0.49281238 0.49779224\n",
      " 0.5        0.49931823 0.49566103 0.48897503 0.47923966 0.46646674\n",
      " 0.45069944 0.43201074 0.4105014  0.38629763 0.35954855 0.33042352\n",
      " 0.2991096  0.265809   0.23073684 0.1941191  0.15619088 0.117195\n",
      " 0.07738077 0.03700306 0.00367849 0.04440028 0.0848955  0.12489505\n",
      " 0.16412869 0.20232651 0.23922073 0.27454792 0.30805167 0.33948559\n",
      " 0.36861665 0.39522885 0.4191269  0.44014006 0.45812573 0.47297279\n",
      " 0.4846045  0.49298087 0.49810021 0.5        0.49875677 0.49448515\n",
      " 0.48733598 0.4774935  0.46517183 0.45061063 0.43407027 0.41582661\n",
      " 0.39616539 0.3753767  0.35374946 0.33156612 0.30909783 0.28660012\n",
      " 0.26430913 0.24243865 0.22117783 0.20068962 0.18111006 0.16254818\n",
      " 0.14508657 0.12878255 0.1136698  0.09976038 0.08704706 0.07550577\n",
      " 0.06509825 0.05577462 0.04747593 0.04013658]\n",
      "50\n",
      "0.0036784903864892637 0.0036784903864892637\n"
     ]
    },
    {
     "data": {
      "text/plain": [
       "3.0404040404040407"
      ]
     },
     "execution_count": 41,
     "metadata": {},
     "output_type": "execute_result"
    }
   ],
   "source": [
    "A = np.array([10,5,7])\n",
    "print( A.min() )    # 5\n",
    "print( A.argmin() ) # 1\n",
    "\n",
    "print( np.abs(yi-0.5) )\n",
    "print( np.abs(yi-0.5).argmin() )\n",
    "print( np.abs(yi-0.5)[50], np.abs(yi-0.5).min() )\n",
    "Xi[ np.abs(yi-0.5).argmin() ] # border"
   ]
  },
  {
   "cell_type": "code",
   "execution_count": null,
   "id": "6de3f5c3",
   "metadata": {},
   "outputs": [],
   "source": []
  },
  {
   "cell_type": "markdown",
   "id": "e54e388f",
   "metadata": {},
   "source": [
    "### 2-D ternary classification by Gaussian distribution\n",
    "### MLE"
   ]
  },
  {
   "cell_type": "code",
   "execution_count": 45,
   "id": "ab05e693",
   "metadata": {},
   "outputs": [
    {
     "data": {
      "image/png": "[encoded data removed]",
      "text/plain": [
       "<Figure size 576x216 with 2 Axes>"
      ]
     },
     "metadata": {},
     "output_type": "display_data"
    }
   ],
   "source": [
    "# step 1: get data\n",
    "X     = np.array([ [1.1,2.0], [2.0,1.5], [1.2,1.3], [1.5,1.7], \\\n",
    "                   [2.3,1.8], [3.3,1.5], [2.7,2.0], [2.3,1.5], \\\n",
    "                   [1.5,3.0], [2.5,2.8], [3.0,2.2], [2.5,2.2], \\\n",
    "                 ])\n",
    "yTrue = np.array([0,0,0,0, 1,1,1,1, 2,2,2,2])\n",
    "\n",
    "# step 2: split to train, val\n",
    "XTrain     = X    [ [0,1,2,4,5,6,8,9,10] ] # X left 9 data\n",
    "yTrueTrain = yTrue[ [0,1,2,4,5,6,8,9,10] ] # [0 0 0 1 1 1 2 2 2]\n",
    "XVal       = X    [ [3,7,11] ] # X right 3 data \n",
    "yTrueVal   = yTrue[ [3,7,11] ] # [0 1 2]\n",
    "\n",
    "fig = plt.figure(figsize=(8,3))\n",
    "fig.set_facecolor(\"orange\")\n",
    "\n",
    "plt.subplot(1,2,1)\n",
    "plt.title(\"training data\")\n",
    "# yTrueTrain==0 # [True True True False False False False False False]\n",
    "# XTrain[yTrueTrain==0] # [[1.1,2.0], [2.0,1.5], [1.2,1.3]]\n",
    "# XTrain[yTrueTrain==0][:,0] # [1.1 2.0 1.2] # data A\n",
    "# XTrain[yTrueTrain==0][:,1] # [2.0 1.5 1.3] # data B\n",
    "plt.scatter( XTrain[yTrueTrain==0][:,0], XTrain[yTrueTrain==0][:,1] ) # train - class 0 # blue\n",
    "plt.scatter( XTrain[yTrueTrain==1][:,0], XTrain[yTrueTrain==1][:,1] ) # train - class 1 # orange\n",
    "plt.scatter( XTrain[yTrueTrain==2][:,0], XTrain[yTrueTrain==2][:,1] ) # train - class 2 # green\n",
    "plt.legend(labels=[\"class0\",\"class1\",\"class2\"])\n",
    "plt.xlabel(\"data A\", fontsize=16)\n",
    "plt.ylabel(\"data B\", fontsize=16)\n",
    "plt.xlim( X[:,0].min()-0.1, X[:,0].max()+0.1 )\n",
    "plt.ylim( X[:,1].min()-0.1, X[:,1].max()+0.1 )\n",
    "plt.grid('on')\n",
    "\n",
    "plt.subplot(1,2,2)\n",
    "plt.title(\"validation data\")\n",
    "plt.scatter( XVal[yTrueVal==0][:,0], XVal[yTrueVal==0][:,1] ) # val - class 0\n",
    "plt.scatter( XVal[yTrueVal==1][:,0], XVal[yTrueVal==1][:,1] ) # val - class 1\n",
    "plt.scatter( XVal[yTrueVal==2][:,0], XVal[yTrueVal==2][:,1] ) # val - class 2\n",
    "plt.legend(labels=[\"class0\",\"class1\",\"class2\"])\n",
    "plt.xlabel(\"data A\", fontsize=16)\n",
    "plt.ylabel(\"data B\", fontsize=16)\n",
    "plt.grid('on')\n",
    "plt.xlim( X[:,0].min()-0.1, X[:,0].max()+0.1 )\n",
    "plt.ylim( X[:,1].min()-0.1, X[:,1].max()+0.1 )\n",
    "plt.show()"
   ]
  },
  {
   "cell_type": "code",
   "execution_count": 46,
   "id": "3b65da59",
   "metadata": {},
   "outputs": [],
   "source": [
    "# step 3: create model\n",
    "# step 4: define loss function L\n",
    "# step 5: find best mu,si to minimize L\n",
    "\n",
    "# after some mathematical derivation, the result is equivalent to:\n",
    "# max( G0(a,b,mua0,mub0,sia0,sib0,lo0), G1(a,y,mua1,mub1,sia1,sib1,lo1), G2(a,b,mua2,mub2,sia2,sib2,lo2) )"
   ]
  },
  {
   "cell_type": "code",
   "execution_count": 49,
   "id": "7b9590d6",
   "metadata": {},
   "outputs": [
    {
     "name": "stdout",
     "output_type": "stream",
     "text": [
      "0 123\n",
      "1 762\n",
      "2 515\n",
      "0 123\n",
      "1 762\n",
      "2 515\n"
     ]
    }
   ],
   "source": [
    "I = [0, 1, 2]\n",
    "L = [123, 762, 515]\n",
    "for idx,ele in zip(I,L):\n",
    "    print(idx,ele)\n",
    "    \n",
    "for idx,ele in enumerate(L):\n",
    "    print(idx, ele)"
   ]
  },
  {
   "cell_type": "code",
   "execution_count": 56,
   "id": "ef05b9a6",
   "metadata": {},
   "outputs": [
    {
     "data": {
      "image/png": "[encoded data removed]",
      "text/plain": [
       "<Figure size 288x216 with 2 Axes>"
      ]
     },
     "metadata": {
      "needs_background": "light"
     },
     "output_type": "display_data"
    }
   ],
   "source": [
    "# https://en.wikipedia.org/wiki/Multivariate_normal_distribution\n",
    "def Gauss(a, b, mua, mub, sia, sib, lo):\n",
    "    coefficient = 1/(2*pi*sia*sib*(1-lo**2)**0.5)\n",
    "    exponent    = -0.5/(1-lo**2) * ( ((a-mua)/sia)**2 - 2*lo*(a-mua)/sia*(b-mub)/sib + ((b-mub)/sib)**2 )\n",
    "    return coefficient * e**exponent\n",
    "\n",
    "Z = np.zeros( (101,101) )\n",
    "for i,x in enumerate(np.linspace(-3, 3, 101)): # i = 0,1,2,...,101 # x = -3, -3.00x, ..., 3\n",
    "    for j,y in enumerate(np.linspace(-3, 3, 101)): # j = 0,1,2,...,101 # y = -3, -3.00x, ..., 3\n",
    "        Z[i][j] = Gauss(x,y,0,0,1,1,0) # mua=0, mub=0, sia=1, sib=1, lo=0\n",
    "\n",
    "plt.figure(figsize=(4,3))\n",
    "plt.xticks([0,33,66,100], [-3,-1,1,3])\n",
    "plt.yticks([0,33,66,100], [-3,-1,1,3])\n",
    "plt.imshow(Z)\n",
    "plt.colorbar()\n",
    "plt.show()"
   ]
  },
  {
   "cell_type": "code",
   "execution_count": 58,
   "id": "75ca058d",
   "metadata": {},
   "outputs": [
    {
     "data": {
      "image/png": "[encoded data removed]",
      "text/plain": [
       "<Figure size 864x216 with 4 Axes>"
      ]
     },
     "metadata": {},
     "output_type": "display_data"
    }
   ],
   "source": [
    "# https://en.wikipedia.org/wiki/Pearson_correlation_coefficient\n",
    "def PearsonCorrelation(A, B):\n",
    "    mua, mub = A.mean(), B.mean()\n",
    "    cov = sum([ (a-mua)*(b-mub) for a,b in zip(A,B) ]) / len(A)\n",
    "    return round( cov/(A.std()*B.std()), 4)\n",
    "\n",
    "test1 = np.array([[0,0], [1,1], [2,2], [3,3]])\n",
    "test2 = np.array([[0,3], [1,2], [2,1], [3,0]])\n",
    "test3 = np.array([[0,1], [1,0], [0,-1], [-1,0]])\n",
    "test4 = np.array([[0,0], [1,0.5], [2,2.5], [3,3]])\n",
    "\n",
    "lo1 = PearsonCorrelation(test1[:,0], test1[:,1]) # 0,1,2,3 # 0,1,2,3\n",
    "lo2 = PearsonCorrelation(test2[:,0], test2[:,1]) # 0,1,2,3 # 3,2,1,0\n",
    "lo3 = PearsonCorrelation(test3[:,0], test3[:,1]) # 0,1,0,-1 # 1,0,-1,0\n",
    "lo4 = PearsonCorrelation(test4[:,0], test4[:,1])\n",
    "\n",
    "fig = plt.figure(figsize=(3*4,3))\n",
    "fig.set_facecolor(\"orange\")\n",
    "plt.subplot(1,4,1)\n",
    "plt.title(lo1)\n",
    "plt.scatter( test1[:,0], test1[:,1] )\n",
    "plt.subplot(1,4,2)\n",
    "plt.title(lo2)\n",
    "plt.scatter( test2[:,0], test2[:,1] )\n",
    "plt.subplot(1,4,3)\n",
    "plt.title(lo3)\n",
    "plt.scatter( test3[:,0], test3[:,1] )\n",
    "plt.subplot(1,4,4)\n",
    "plt.title(lo4)\n",
    "plt.scatter( test4[:,0], test4[:,1] )\n",
    "plt.show()"
   ]
  },
  {
   "cell_type": "code",
   "execution_count": 102,
   "id": "2add72ea",
   "metadata": {},
   "outputs": [
    {
     "name": "stdout",
     "output_type": "stream",
     "text": [
      "XTrain [[1.1 2. ]\n",
      " [2.  1.5]\n",
      " [1.2 1.3]\n",
      " [2.3 1.8]\n",
      " [3.3 1.5]\n",
      " [2.7 2. ]\n",
      " [1.5 3. ]\n",
      " [2.5 2.8]\n",
      " [3.  2.2]]\n",
      "XTrainC0 [[1.1 2. ]\n",
      " [2.  1.5]\n",
      " [1.2 1.3]]\n",
      "XTrainC1 [[2.3 1.8]\n",
      " [3.3 1.5]\n",
      " [2.7 2. ]]\n",
      "XTrainC2 [[1.5 3. ]\n",
      " [2.5 2.8]\n",
      " [3.  2.2]]\n"
     ]
    }
   ],
   "source": [
    "class ModelIndependent:\n",
    "    def __init__(self, mux0, muy0, six0, siy0, lo0, mux1, muy1, six1, siy1, lo1, mux2, muy2, six2, siy2, lo2):\n",
    "        self.mux0, self.muy0, self.six0, self.siy0, self.lo0 = mux0, muy0, six0, siy0, lo0\n",
    "        self.mux1, self.muy1, self.six1, self.siy1, self.lo1 = mux1, muy1, six1, siy1, lo1\n",
    "        self.mux2, self.muy2, self.six2, self.siy2, self.lo2 = mux2, muy2, six2, siy2, lo2\n",
    "    def predict(self, x, y):\n",
    "        score0 = Gauss(x, y, self.mux0, self.muy0, self.six0, self.siy0, self.lo0)\n",
    "        score1 = Gauss(x, y, self.mux1, self.muy1, self.six1, self.siy1, self.lo1)\n",
    "        score2 = Gauss(x, y, self.mux2, self.muy2, self.six2, self.siy2, self.lo2)\n",
    "        if type(x)==type(np.array([])):\n",
    "            # n: number of data # len(x)==len(y)==n\n",
    "            # score0: shape=(1,n) # j-th col # score0[j]: probability of j-th data belongs to class 0 \n",
    "            # score1: shape=(1,n)\n",
    "            # score2: shape=(1,n)\n",
    "            score  = np.stack([ score0, score1, score2 ]) # shape=(3,n) # score[i][j]: probability of j-th data belongs to class i\n",
    "            score[:,0] = score[:,0] / score[:,0].sum()\n",
    "            score[:,1] = score[:,1] / score[:,1].sum()\n",
    "            score[:,2] = score[:,2] / score[:,2].sum()\n",
    "            \"\"\"\n",
    "            e.g.\n",
    "            score = [ [0,1,2,3], [4,5,6,7], [8,9,10,11] ] \n",
    "            score = [ [0/12, 1/15, 2/18, 3/21], [4/12, 5/15, 6/18, 7/21], [8/12, 9/15, 10/18, 11/21] ]\n",
    "            \"\"\"\n",
    "            return np.round( score, 3 )\n",
    "        else: # x,y: int\n",
    "            return score0, score1, score2\n",
    "\n",
    "print(\"XTrain\", XTrain)\n",
    "XTrainC0 = XTrain[yTrueTrain==0]\n",
    "XTrainC1 = XTrain[yTrueTrain==1]\n",
    "XTrainC2 = XTrain[yTrueTrain==2]\n",
    "print(\"XTrainC0\", XTrainC0)\n",
    "print(\"XTrainC1\", XTrainC1)\n",
    "print(\"XTrainC2\", XTrainC2)\n",
    "\n",
    "mua0, mub0, sia0, sib0 = XTrainC0[:,0].mean(), XTrainC0[:,1].mean(), XTrainC0[:,0].std(), XTrainC0[:,1].std()\n",
    "mua1, mub1, sia1, sib1 = XTrainC1[:,0].mean(), XTrainC1[:,1].mean(), XTrainC1[:,0].std(), XTrainC1[:,1].std()\n",
    "mua2, mub2, sia2, sib2 = XTrainC2[:,0].mean(), XTrainC2[:,1].mean(), XTrainC2[:,0].std(), XTrainC2[:,1].std()\n",
    "lo0 = PearsonCorrelation(XTrainC0[:,0], XTrainC0[:,1])\n",
    "lo1 = PearsonCorrelation(XTrainC1[:,0], XTrainC1[:,1])\n",
    "lo2 = PearsonCorrelation(XTrainC2[:,0], XTrainC2[:,1])\n",
    "\n",
    "model = ModelIndependent(mua0, mub0, sia0, sib0, lo0, mua1, mub1, sia1, sib1, lo1, mua2, mub2, sia2, sib2, lo2)"
   ]
  },
  {
   "cell_type": "code",
   "execution_count": 103,
   "id": "d445612e",
   "metadata": {},
   "outputs": [
    {
     "name": "stdout",
     "output_type": "stream",
     "text": [
      "[[1.5 1.7]\n",
      " [2.3 1.5]\n",
      " [2.5 2.2]]\n",
      "[0 1 2]\n"
     ]
    }
   ],
   "source": [
    "print(XVal)\n",
    "print(yTrueVal)"
   ]
  },
  {
   "cell_type": "code",
   "execution_count": 104,
   "id": "f127c1a6",
   "metadata": {},
   "outputs": [
    {
     "name": "stdout",
     "output_type": "stream",
     "text": [
      "yPredValScore:\n",
      " [[1.    0.845 0.001]\n",
      " [0.    0.155 0.687]\n",
      " [0.    0.    0.312]]\n",
      "yPredVal: [0 0 1]\n",
      "yTrueVal: [0 1 2]\n",
      "accuracy: 0.3333333333333333\n"
     ]
    }
   ],
   "source": [
    "# step 6\n",
    "yPredValScore = model.predict( XVal[:,0], XVal[:,1] )\n",
    "print( \"yPredValScore:\\n\", yPredValScore )\n",
    "\n",
    "yPredVal = yPredValScore.argmax(axis=0)\n",
    "print( \"yPredVal:\", yPredVal )\n",
    "print( \"yTrueVal:\", yTrueVal )\n",
    "\n",
    "accuracy = (yPredVal==yTrueVal).sum() / len(yTrueVal)\n",
    "print( \"accuracy:\", accuracy )"
   ]
  },
  {
   "cell_type": "code",
   "execution_count": 105,
   "id": "3862f77e",
   "metadata": {},
   "outputs": [
    {
     "name": "stdout",
     "output_type": "stream",
     "text": [
      "Confusion matrix:\n",
      " [[1. 1. 0.]\n",
      " [0. 0. 1.]\n",
      " [0. 0. 0.]]\n"
     ]
    }
   ],
   "source": [
    "C = np.zeros( (3,3) )\n",
    "for yPred,yTrue in zip(yPredVal, yTrueVal):\n",
    "    C[yPred][yTrue]+=1\n",
    "print(\"Confusion matrix:\\n\", C)"
   ]
  },
  {
   "cell_type": "code",
   "execution_count": 107,
   "id": "11aac3a6",
   "metadata": {},
   "outputs": [
    {
     "data": {
      "image/png": "[encoded data removed]",
      "text/plain": [
       "<Figure size 288x216 with 1 Axes>"
      ]
     },
     "metadata": {
      "needs_background": "light"
     },
     "output_type": "display_data"
    }
   ],
   "source": [
    "Z = np.zeros( (101,101,3) )\n",
    "# matrix (i,j) w.r.t. coordinate(x,y): i is -y, j is x\n",
    "for i,y in enumerate( np.linspace(X[:,1].min(), X[:,1].max(), 101) ):\n",
    "    for j,x in enumerate( np.linspace(X[:,0].min(), X[:,0].max(), 101) ):\n",
    "        Z[-1-i][j] = model.predict(x,y)\n",
    "Z = (Z-Z.min())/(Z.max()-Z.min())\n",
    "# dot    : class0,class1,class2 = blue,orange,green\n",
    "# channel: class0,class1,class2 = R,G,B\n",
    "Z = Z[:,:,[1,2,0]]\n",
    "\n",
    "plt.figure(figsize=(4,3))\n",
    "plt.imshow( Z )\n",
    "plt.show()"
   ]
  },
  {
   "cell_type": "code",
   "execution_count": null,
   "id": "c5275a23",
   "metadata": {},
   "outputs": [],
   "source": []
  }
 ],
 "metadata": {
  "kernelspec": {
   "display_name": "Python 3 (ipykernel)",
   "language": "python",
   "name": "python3"
  },
  "language_info": {
   "codemirror_mode": {
    "name": "ipython",
    "version": 3
   },
   "file_extension": ".py",
   "mimetype": "text/x-python",
   "name": "python",
   "nbconvert_exporter": "python",
   "pygments_lexer": "ipython3",
   "version": "3.9.12"
  }
 },
 "nbformat": 4,
 "nbformat_minor": 5
}
