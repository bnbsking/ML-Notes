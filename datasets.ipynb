{
 "cells": [
  {
   "attachments": {},
   "cell_type": "markdown",
   "metadata": {},
   "source": [
    "### Dataset"
   ]
  },
  {
   "cell_type": "code",
   "execution_count": 1,
   "metadata": {},
   "outputs": [],
   "source": [
    "import os\n",
    "\n",
    "import cv2\n",
    "import numpy as np\n",
    "import torch\n",
    "from torch.utils.data import Dataset, TensorDataset, DataLoader\n",
    "from torchvision.datasets import ImageFolder"
   ]
  },
  {
   "cell_type": "code",
   "execution_count": 2,
   "metadata": {},
   "outputs": [
    {
     "name": "stdout",
     "output_type": "stream",
     "text": [
      "(tensor([[[0.6003, 0.9678],\n",
      "         [0.7393, 0.3976]]]), tensor(0))\n"
     ]
    }
   ],
   "source": [
    "# 1. customized\n",
    "\n",
    "class MyDataset(Dataset):\n",
    "    def __init__(self):\n",
    "        self.x = [ torch.rand(1,2,2) for i in range(4) ]\n",
    "        self.y = torch.tensor([ i%2 for i in range(4) ], dtype=torch.long)\n",
    "\n",
    "    def __len__(self):\n",
    "        return len(self.y)\n",
    "    \n",
    "    def __getitem__(self, index):\n",
    "        return self.x[index], self.y[index]\n",
    "\n",
    "dataset = MyDataset()\n",
    "print( next(iter(dataset)) )"
   ]
  },
  {
   "cell_type": "code",
   "execution_count": 3,
   "metadata": {},
   "outputs": [
    {
     "name": "stdout",
     "output_type": "stream",
     "text": [
      "4 <class 'torchvision.datasets.folder.ImageFolder'>\n",
      "['cls1', 'cls2']\n",
      "('./_data/example_img_folder/cls1/0.jpg', 0) 0\n",
      "(<PIL.Image.Image image mode=RGB size=2x2 at 0x7FE79528A2E0>, 0)\n"
     ]
    }
   ],
   "source": [
    "# 2. folder (image classification)\n",
    "os.makedirs(\"./_data/example_img_folder/cls1\", exist_ok=True)\n",
    "for i in range(2):\n",
    "    img = np.random.randint(0, 256, size=(2,2,1), dtype=np.uint8)\n",
    "    cv2.imwrite(f\"./_data/example_img_folder/cls1/{i}.jpg\", img)\n",
    "\n",
    "os.makedirs(\"./_data/example_img_folder/cls2\", exist_ok=True)\n",
    "for i in range(2,4):\n",
    "    img = np.random.randint(0, 256, size=(2,2,1), dtype=np.uint8)\n",
    "    cv2.imwrite(f\"./_data/example_img_folder/cls2/{i}.jpg\", img)\n",
    "\n",
    "dataset = ImageFolder(\"./_data/example_img_folder\")\n",
    "print( len(dataset), type(dataset) )\n",
    "print( dataset.classes )\n",
    "print( dataset.imgs[0], dataset.targets[0] )\n",
    "print( next(iter(dataset)) )"
   ]
  },
  {
   "cell_type": "code",
   "execution_count": 4,
   "metadata": {},
   "outputs": [
    {
     "name": "stdout",
     "output_type": "stream",
     "text": [
      "torch.Size([4, 1, 2, 2]) torch.Size([4])\n",
      "(tensor([[[0.0494, 0.2581],\n",
      "         [0.4403, 0.8102]]]), tensor(0))\n"
     ]
    }
   ],
   "source": [
    "# 3. small\n",
    "x = torch.rand(4,1,2,2)\n",
    "y = torch.tensor([ i%2 for i in range(4) ], dtype=torch.long)\n",
    "\n",
    "dataset = TensorDataset(x, y)\n",
    "print( dataset.tensors[0].shape, dataset.tensors[1].shape )\n",
    "print( next(iter(dataset)) )"
   ]
  },
  {
   "attachments": {},
   "cell_type": "markdown",
   "metadata": {},
   "source": [
    "### DataLoader(dataset, *)\n",
    "+ batch_size: int\n",
    "+ collate_fn: func\n",
    "+ pin_memory: bool (faster or not)\n",
    "+ drop_last: bool"
   ]
  },
  {
   "cell_type": "code",
   "execution_count": 5,
   "metadata": {},
   "outputs": [
    {
     "name": "stdout",
     "output_type": "stream",
     "text": [
      "[tensor([[1, 1, 1],\n",
      "        [2, 2, 2]]), tensor([1, 2])]\n",
      "\n",
      "(tensor([[1, 1, 1],\n",
      "        [2, 2, 2]]), tensor([1, 2]))\n"
     ]
    }
   ],
   "source": [
    "x = torch.tensor([[1,1,1], [2,2,2], [3,3,3], [4,4,4]])\n",
    "y = torch.tensor([1,2,3,4])\n",
    "dataset = TensorDataset(x,y)\n",
    "\n",
    "# 1 default collate_fn\n",
    "print( next(iter(DataLoader(dataset, batch_size=2))) )\n",
    "print()\n",
    "\n",
    "# 2 customized collate_fn\n",
    "def my_collate(batch):\n",
    "    x_list, y_list = [], []\n",
    "    for x, y in batch: # format same as iterating dataset\n",
    "        x_list.append(x), y_list.append(y)\n",
    "    return torch.stack(x_list), torch.stack(y_list)\n",
    "print( next(iter(DataLoader(dataset, batch_size=2, collate_fn=my_collate))) )"
   ]
  },
  {
   "cell_type": "code",
   "execution_count": null,
   "metadata": {},
   "outputs": [],
   "source": []
  },
  {
   "cell_type": "markdown",
   "metadata": {},
   "source": [
    "### torchvision.datasets\n",
    "\n",
    "+ https://pytorch.org/vision/main/datasets.html"
   ]
  },
  {
   "cell_type": "code",
   "execution_count": 1,
   "metadata": {},
   "outputs": [],
   "source": [
    "from torchvision.datasets import CIFAR10"
   ]
  },
  {
   "cell_type": "code",
   "execution_count": 2,
   "metadata": {},
   "outputs": [
    {
     "name": "stdout",
     "output_type": "stream",
     "text": [
      "Files already downloaded and verified\n",
      "Files already downloaded and verified\n",
      "354M\t./_data/cifar10\n",
      "50000 10000 <class 'torchvision.datasets.cifar.CIFAR10'>\n",
      "['airplane', 'automobile', 'bird', 'cat', 'deer', 'dog', 'frog', 'horse', 'ship', 'truck']\n",
      "10000 (32, 32, 3)\n",
      "10000 [3, 8, 8, 0, 6]\n",
      "(<PIL.Image.Image image mode=RGB size=32x32 at 0x7FEFE2892B80>, 3)\n"
     ]
    }
   ],
   "source": [
    "# 1. CIFAR10\n",
    "# download=True means download all # train=True/False means return train/val part\n",
    "trainset = CIFAR10(root=\"./_data/cifar10\", train=True, download=True)\n",
    "validset = CIFAR10(root=\"./_data/cifar10\", train=False, download=True)\n",
    "!du -sh ./_data/cifar10\n",
    "\n",
    "print( len(trainset), len(validset), type(validset) )\n",
    "print( validset.classes )\n",
    "print( len(validset.data), validset.data[0].shape )\n",
    "print( len(validset.targets), validset.targets[:5] )\n",
    "print( next(iter(validset)) )"
   ]
  },
  {
   "cell_type": "code",
   "execution_count": null,
   "metadata": {},
   "outputs": [],
   "source": []
  }
 ],
 "metadata": {
  "kernelspec": {
   "display_name": "test",
   "language": "python",
   "name": "python3"
  },
  "language_info": {
   "codemirror_mode": {
    "name": "ipython",
    "version": 3
   },
   "file_extension": ".py",
   "mimetype": "text/x-python",
   "name": "python",
   "nbconvert_exporter": "python",
   "pygments_lexer": "ipython3",
   "version": "3.8.16"
  },
  "vscode": {
   "interpreter": {
    "hash": "4de884d891615765edd271cb3c15e2a75ba9303f259ba1474785180bf9788ba0"
   }
  }
 },
 "nbformat": 4,
 "nbformat_minor": 4
}
