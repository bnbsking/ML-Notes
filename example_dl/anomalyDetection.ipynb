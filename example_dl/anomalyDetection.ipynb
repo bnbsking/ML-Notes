{
 "cells": [
  {
   "cell_type": "code",
   "execution_count": 1,
   "metadata": {},
   "outputs": [],
   "source": [
    "# https://www.kaggle.com/competitions/digit-recognizer/data?select=train.csv\n",
    "# https://www.kaggle.com/competitions/digit-recognizer/data?select=test.csv # not labeled not used\n",
    "# techniques: few-shot learning, weighted cross entropy, upsampling/downsampling, focal loss\n",
    "# metrics: precision, recall, PR curve\n",
    "import random\n",
    "import matplotlib.pyplot as plt\n",
    "import numpy as np\n",
    "import pandas as pd\n",
    "import torch\n",
    "import torch.nn as nn\n",
    "from torch.utils.data import Dataset, DataLoader"
   ]
  },
  {
   "cell_type": "code",
   "execution_count": 2,
   "metadata": {},
   "outputs": [
    {
     "data": {
      "text/html": [
       "<div>\n",
       "<style scoped>\n",
       "    .dataframe tbody tr th:only-of-type {\n",
       "        vertical-align: middle;\n",
       "    }\n",
       "\n",
       "    .dataframe tbody tr th {\n",
       "        vertical-align: top;\n",
       "    }\n",
       "\n",
       "    .dataframe thead th {\n",
       "        text-align: right;\n",
       "    }\n",
       "</style>\n",
       "<table border=\"1\" class=\"dataframe\">\n",
       "  <thead>\n",
       "    <tr style=\"text-align: right;\">\n",
       "      <th></th>\n",
       "      <th>label</th>\n",
       "      <th>pixel0</th>\n",
       "      <th>pixel1</th>\n",
       "      <th>pixel2</th>\n",
       "      <th>pixel3</th>\n",
       "      <th>pixel4</th>\n",
       "      <th>pixel5</th>\n",
       "      <th>pixel6</th>\n",
       "      <th>pixel7</th>\n",
       "      <th>pixel8</th>\n",
       "      <th>...</th>\n",
       "      <th>pixel774</th>\n",
       "      <th>pixel775</th>\n",
       "      <th>pixel776</th>\n",
       "      <th>pixel777</th>\n",
       "      <th>pixel778</th>\n",
       "      <th>pixel779</th>\n",
       "      <th>pixel780</th>\n",
       "      <th>pixel781</th>\n",
       "      <th>pixel782</th>\n",
       "      <th>pixel783</th>\n",
       "    </tr>\n",
       "  </thead>\n",
       "  <tbody>\n",
       "    <tr>\n",
       "      <th>0</th>\n",
       "      <td>1</td>\n",
       "      <td>0</td>\n",
       "      <td>0</td>\n",
       "      <td>0</td>\n",
       "      <td>0</td>\n",
       "      <td>0</td>\n",
       "      <td>0</td>\n",
       "      <td>0</td>\n",
       "      <td>0</td>\n",
       "      <td>0</td>\n",
       "      <td>...</td>\n",
       "      <td>0</td>\n",
       "      <td>0</td>\n",
       "      <td>0</td>\n",
       "      <td>0</td>\n",
       "      <td>0</td>\n",
       "      <td>0</td>\n",
       "      <td>0</td>\n",
       "      <td>0</td>\n",
       "      <td>0</td>\n",
       "      <td>0</td>\n",
       "    </tr>\n",
       "    <tr>\n",
       "      <th>1</th>\n",
       "      <td>0</td>\n",
       "      <td>0</td>\n",
       "      <td>0</td>\n",
       "      <td>0</td>\n",
       "      <td>0</td>\n",
       "      <td>0</td>\n",
       "      <td>0</td>\n",
       "      <td>0</td>\n",
       "      <td>0</td>\n",
       "      <td>0</td>\n",
       "      <td>...</td>\n",
       "      <td>0</td>\n",
       "      <td>0</td>\n",
       "      <td>0</td>\n",
       "      <td>0</td>\n",
       "      <td>0</td>\n",
       "      <td>0</td>\n",
       "      <td>0</td>\n",
       "      <td>0</td>\n",
       "      <td>0</td>\n",
       "      <td>0</td>\n",
       "    </tr>\n",
       "    <tr>\n",
       "      <th>2</th>\n",
       "      <td>1</td>\n",
       "      <td>0</td>\n",
       "      <td>0</td>\n",
       "      <td>0</td>\n",
       "      <td>0</td>\n",
       "      <td>0</td>\n",
       "      <td>0</td>\n",
       "      <td>0</td>\n",
       "      <td>0</td>\n",
       "      <td>0</td>\n",
       "      <td>...</td>\n",
       "      <td>0</td>\n",
       "      <td>0</td>\n",
       "      <td>0</td>\n",
       "      <td>0</td>\n",
       "      <td>0</td>\n",
       "      <td>0</td>\n",
       "      <td>0</td>\n",
       "      <td>0</td>\n",
       "      <td>0</td>\n",
       "      <td>0</td>\n",
       "    </tr>\n",
       "    <tr>\n",
       "      <th>3</th>\n",
       "      <td>4</td>\n",
       "      <td>0</td>\n",
       "      <td>0</td>\n",
       "      <td>0</td>\n",
       "      <td>0</td>\n",
       "      <td>0</td>\n",
       "      <td>0</td>\n",
       "      <td>0</td>\n",
       "      <td>0</td>\n",
       "      <td>0</td>\n",
       "      <td>...</td>\n",
       "      <td>0</td>\n",
       "      <td>0</td>\n",
       "      <td>0</td>\n",
       "      <td>0</td>\n",
       "      <td>0</td>\n",
       "      <td>0</td>\n",
       "      <td>0</td>\n",
       "      <td>0</td>\n",
       "      <td>0</td>\n",
       "      <td>0</td>\n",
       "    </tr>\n",
       "    <tr>\n",
       "      <th>4</th>\n",
       "      <td>0</td>\n",
       "      <td>0</td>\n",
       "      <td>0</td>\n",
       "      <td>0</td>\n",
       "      <td>0</td>\n",
       "      <td>0</td>\n",
       "      <td>0</td>\n",
       "      <td>0</td>\n",
       "      <td>0</td>\n",
       "      <td>0</td>\n",
       "      <td>...</td>\n",
       "      <td>0</td>\n",
       "      <td>0</td>\n",
       "      <td>0</td>\n",
       "      <td>0</td>\n",
       "      <td>0</td>\n",
       "      <td>0</td>\n",
       "      <td>0</td>\n",
       "      <td>0</td>\n",
       "      <td>0</td>\n",
       "      <td>0</td>\n",
       "    </tr>\n",
       "    <tr>\n",
       "      <th>...</th>\n",
       "      <td>...</td>\n",
       "      <td>...</td>\n",
       "      <td>...</td>\n",
       "      <td>...</td>\n",
       "      <td>...</td>\n",
       "      <td>...</td>\n",
       "      <td>...</td>\n",
       "      <td>...</td>\n",
       "      <td>...</td>\n",
       "      <td>...</td>\n",
       "      <td>...</td>\n",
       "      <td>...</td>\n",
       "      <td>...</td>\n",
       "      <td>...</td>\n",
       "      <td>...</td>\n",
       "      <td>...</td>\n",
       "      <td>...</td>\n",
       "      <td>...</td>\n",
       "      <td>...</td>\n",
       "      <td>...</td>\n",
       "      <td>...</td>\n",
       "    </tr>\n",
       "    <tr>\n",
       "      <th>41995</th>\n",
       "      <td>0</td>\n",
       "      <td>0</td>\n",
       "      <td>0</td>\n",
       "      <td>0</td>\n",
       "      <td>0</td>\n",
       "      <td>0</td>\n",
       "      <td>0</td>\n",
       "      <td>0</td>\n",
       "      <td>0</td>\n",
       "      <td>0</td>\n",
       "      <td>...</td>\n",
       "      <td>0</td>\n",
       "      <td>0</td>\n",
       "      <td>0</td>\n",
       "      <td>0</td>\n",
       "      <td>0</td>\n",
       "      <td>0</td>\n",
       "      <td>0</td>\n",
       "      <td>0</td>\n",
       "      <td>0</td>\n",
       "      <td>0</td>\n",
       "    </tr>\n",
       "    <tr>\n",
       "      <th>41996</th>\n",
       "      <td>1</td>\n",
       "      <td>0</td>\n",
       "      <td>0</td>\n",
       "      <td>0</td>\n",
       "      <td>0</td>\n",
       "      <td>0</td>\n",
       "      <td>0</td>\n",
       "      <td>0</td>\n",
       "      <td>0</td>\n",
       "      <td>0</td>\n",
       "      <td>...</td>\n",
       "      <td>0</td>\n",
       "      <td>0</td>\n",
       "      <td>0</td>\n",
       "      <td>0</td>\n",
       "      <td>0</td>\n",
       "      <td>0</td>\n",
       "      <td>0</td>\n",
       "      <td>0</td>\n",
       "      <td>0</td>\n",
       "      <td>0</td>\n",
       "    </tr>\n",
       "    <tr>\n",
       "      <th>41997</th>\n",
       "      <td>7</td>\n",
       "      <td>0</td>\n",
       "      <td>0</td>\n",
       "      <td>0</td>\n",
       "      <td>0</td>\n",
       "      <td>0</td>\n",
       "      <td>0</td>\n",
       "      <td>0</td>\n",
       "      <td>0</td>\n",
       "      <td>0</td>\n",
       "      <td>...</td>\n",
       "      <td>0</td>\n",
       "      <td>0</td>\n",
       "      <td>0</td>\n",
       "      <td>0</td>\n",
       "      <td>0</td>\n",
       "      <td>0</td>\n",
       "      <td>0</td>\n",
       "      <td>0</td>\n",
       "      <td>0</td>\n",
       "      <td>0</td>\n",
       "    </tr>\n",
       "    <tr>\n",
       "      <th>41998</th>\n",
       "      <td>6</td>\n",
       "      <td>0</td>\n",
       "      <td>0</td>\n",
       "      <td>0</td>\n",
       "      <td>0</td>\n",
       "      <td>0</td>\n",
       "      <td>0</td>\n",
       "      <td>0</td>\n",
       "      <td>0</td>\n",
       "      <td>0</td>\n",
       "      <td>...</td>\n",
       "      <td>0</td>\n",
       "      <td>0</td>\n",
       "      <td>0</td>\n",
       "      <td>0</td>\n",
       "      <td>0</td>\n",
       "      <td>0</td>\n",
       "      <td>0</td>\n",
       "      <td>0</td>\n",
       "      <td>0</td>\n",
       "      <td>0</td>\n",
       "    </tr>\n",
       "    <tr>\n",
       "      <th>41999</th>\n",
       "      <td>9</td>\n",
       "      <td>0</td>\n",
       "      <td>0</td>\n",
       "      <td>0</td>\n",
       "      <td>0</td>\n",
       "      <td>0</td>\n",
       "      <td>0</td>\n",
       "      <td>0</td>\n",
       "      <td>0</td>\n",
       "      <td>0</td>\n",
       "      <td>...</td>\n",
       "      <td>0</td>\n",
       "      <td>0</td>\n",
       "      <td>0</td>\n",
       "      <td>0</td>\n",
       "      <td>0</td>\n",
       "      <td>0</td>\n",
       "      <td>0</td>\n",
       "      <td>0</td>\n",
       "      <td>0</td>\n",
       "      <td>0</td>\n",
       "    </tr>\n",
       "  </tbody>\n",
       "</table>\n",
       "<p>42000 rows × 785 columns</p>\n",
       "</div>"
      ],
      "text/plain": [
       "       label  pixel0  pixel1  pixel2  pixel3  pixel4  pixel5  pixel6  pixel7  \\\n",
       "0          1       0       0       0       0       0       0       0       0   \n",
       "1          0       0       0       0       0       0       0       0       0   \n",
       "2          1       0       0       0       0       0       0       0       0   \n",
       "3          4       0       0       0       0       0       0       0       0   \n",
       "4          0       0       0       0       0       0       0       0       0   \n",
       "...      ...     ...     ...     ...     ...     ...     ...     ...     ...   \n",
       "41995      0       0       0       0       0       0       0       0       0   \n",
       "41996      1       0       0       0       0       0       0       0       0   \n",
       "41997      7       0       0       0       0       0       0       0       0   \n",
       "41998      6       0       0       0       0       0       0       0       0   \n",
       "41999      9       0       0       0       0       0       0       0       0   \n",
       "\n",
       "       pixel8  ...  pixel774  pixel775  pixel776  pixel777  pixel778  \\\n",
       "0           0  ...         0         0         0         0         0   \n",
       "1           0  ...         0         0         0         0         0   \n",
       "2           0  ...         0         0         0         0         0   \n",
       "3           0  ...         0         0         0         0         0   \n",
       "4           0  ...         0         0         0         0         0   \n",
       "...       ...  ...       ...       ...       ...       ...       ...   \n",
       "41995       0  ...         0         0         0         0         0   \n",
       "41996       0  ...         0         0         0         0         0   \n",
       "41997       0  ...         0         0         0         0         0   \n",
       "41998       0  ...         0         0         0         0         0   \n",
       "41999       0  ...         0         0         0         0         0   \n",
       "\n",
       "       pixel779  pixel780  pixel781  pixel782  pixel783  \n",
       "0             0         0         0         0         0  \n",
       "1             0         0         0         0         0  \n",
       "2             0         0         0         0         0  \n",
       "3             0         0         0         0         0  \n",
       "4             0         0         0         0         0  \n",
       "...         ...       ...       ...       ...       ...  \n",
       "41995         0         0         0         0         0  \n",
       "41996         0         0         0         0         0  \n",
       "41997         0         0         0         0         0  \n",
       "41998         0         0         0         0         0  \n",
       "41999         0         0         0         0         0  \n",
       "\n",
       "[42000 rows x 785 columns]"
      ]
     },
     "execution_count": 2,
     "metadata": {},
     "output_type": "execute_result"
    }
   ],
   "source": [
    "df = pd.read_csv(\"./train.csv\")\n",
    "df"
   ]
  },
  {
   "cell_type": "code",
   "execution_count": 3,
   "metadata": {},
   "outputs": [
    {
     "data": {
      "text/plain": [
       "((33601, 785), (8400, 785))"
      ]
     },
     "execution_count": 3,
     "metadata": {},
     "output_type": "execute_result"
    }
   ],
   "source": [
    "df_train, df_val = df.loc[:int(0.8*len(df))], df.loc[int(0.8*len(df)):]\n",
    "df_train.shape, df_val.shape"
   ]
  },
  {
   "cell_type": "code",
   "execution_count": 4,
   "metadata": {},
   "outputs": [
    {
     "data": {
      "text/plain": [
       "(3281, 3734, 852, 950)"
      ]
     },
     "execution_count": 4,
     "metadata": {},
     "output_type": "execute_result"
    }
   ],
   "source": [
    "len(df_train[df_train['label']==0]), len(df_train[df_train['label']==1]), len(df_val[df_val['label']==0]), len(df_val[df_val['label']==1])"
   ]
  },
  {
   "cell_type": "code",
   "execution_count": 5,
   "metadata": {},
   "outputs": [
    {
     "name": "stdout",
     "output_type": "stream",
     "text": [
      "(3281, 785) (32, 785) 3313\n"
     ]
    },
    {
     "data": {
      "image/png": "[encoded data removed]",
      "text/plain": [
       "<Figure size 2880x288 with 10 Axes>"
      ]
     },
     "metadata": {
      "needs_background": "light"
     },
     "output_type": "display_data"
    },
    {
     "name": "stdout",
     "output_type": "stream",
     "text": [
      "(852, 785) (8, 785) 860\n"
     ]
    },
    {
     "data": {
      "image/png": "[encoded data removed]",
      "text/plain": [
       "<Figure size 2880x288 with 10 Axes>"
      ]
     },
     "metadata": {
      "needs_background": "light"
     },
     "output_type": "display_data"
    }
   ],
   "source": [
    "class MnistDataset(Dataset):\n",
    "    def __init__(self, csvPath, mode=\"train\"):\n",
    "        df = pd.read_csv(csvPath)\n",
    "        df = df.loc[:int(0.8*len(df))] if mode==\"train\" else df.loc[int(0.8*len(df)):]\n",
    "        self.df0 = df[df['label']==0].reset_index(drop=True)\n",
    "        self.df1 = df[df['label']==1][:int(0.01*len(self.df0))].reset_index(drop=True)\n",
    "        self.R = list(range(len(self.df0)+len(self.df1)))\n",
    "        random.shuffle(self.R)\n",
    "        print(self.df0.shape, self.df1.shape, len(self))\n",
    "        \n",
    "    def __len__(self):\n",
    "        return len(self.R)\n",
    "    \n",
    "    def __getitem__(self, index):\n",
    "        is0, idx = self.R[index]<len(self.df0), self.R[index]%len(self.df0)\n",
    "        if is0:\n",
    "            img   = self.df0.loc[idx][1:].to_numpy().reshape(1,28,28) / 255.\n",
    "            yTrue = 0\n",
    "        else:\n",
    "            img   = self.df1.loc[idx][1:].to_numpy().reshape(1,28,28) / 255.\n",
    "            yTrue = 1\n",
    "        return torch.Tensor(img), torch.Tensor([yTrue]).type(torch.int64)\n",
    "    \n",
    "    def showExamples(self):\n",
    "        plt.figure(figsize=(4*10,4))\n",
    "        for i in range(10):\n",
    "            img, yTrue = self.__getitem__(i)\n",
    "            plt.subplot(1,10,i+1)\n",
    "            plt.title(int(yTrue),fontsize=16)\n",
    "            plt.imshow(img.detach().numpy().squeeze(0))\n",
    "            plt.axis('off')\n",
    "        plt.show()\n",
    "        \n",
    "trainDataset = MnistDataset(\"./train.csv\")\n",
    "trainDataset.showExamples()\n",
    "valDataset = MnistDataset(\"./train.csv\", mode=\"val\")\n",
    "valDataset.showExamples()"
   ]
  },
  {
   "cell_type": "code",
   "execution_count": 32,
   "metadata": {},
   "outputs": [
    {
     "data": {
      "text/plain": [
       "tensor([[0.0565, 0.1409]], device='cuda:0', grad_fn=<AddmmBackward>)"
      ]
     },
     "execution_count": 32,
     "metadata": {},
     "output_type": "execute_result"
    }
   ],
   "source": [
    "class Model(nn.Module):\n",
    "    def __init__(self):\n",
    "        super().__init__()\n",
    "        self.conv1   = nn.Conv2d(in_channels=1, out_channels=64, kernel_size=3, stride=1, padding=1)\n",
    "        self.relu1   = nn.ReLU()\n",
    "        self.maxpool1= nn.MaxPool2d(2)\n",
    "        self.conv2   = nn.Conv2d(in_channels=64, out_channels=64, kernel_size=3, stride=1, padding=1)\n",
    "        self.relu2   = nn.ReLU()\n",
    "        self.maxpool2= nn.MaxPool2d(2)\n",
    "        self.flatten = nn.Flatten()\n",
    "        self.dense1  = nn.Linear(7*7*64, 64)\n",
    "        self.dense2  = nn.Linear(64, 64)\n",
    "        self.dense3  = nn.Linear(64, 2)\n",
    "        # don't do softmax, since nn.functional.CrossEntropyLoss will do\n",
    "    def forward(self, x): # (bz,1,28,28)\n",
    "        x = self.conv1(x)\n",
    "        x = self.relu1(x)\n",
    "        x = self.maxpool1(x) # (bz,64,14,14)\n",
    "        x = self.conv2(x)\n",
    "        x = self.relu2(x)\n",
    "        x = self.maxpool2(x) # (bz,64,7,7)\n",
    "        x = self.flatten(x)\n",
    "        x = self.dense1(x)\n",
    "        x = self.dense2(x)\n",
    "        x = self.dense3(x)\n",
    "        return x\n",
    "\n",
    "model = Model().to('cuda')\n",
    "# print( sum( parameter.numel() for parameter in model.parameters() ) ) # type: torch.nn.parameter.Parameter\n",
    "model(torch.rand(1,1,28,28).to('cuda'))"
   ]
  },
  {
   "cell_type": "code",
   "execution_count": 33,
   "metadata": {},
   "outputs": [],
   "source": [
    "trainDataLoader = DataLoader(trainDataset, batch_size=64)\n",
    "valDataLoader   = DataLoader(valDataset, batch_size=64)\n",
    "optimizer = torch.optim.Adam(model.parameters(), lr=1e-4)\n",
    "#loss_func = nn.CrossEntropyLoss() # yPred:float32 non-softmax (B,D), yTrue:int64 (B,)\n",
    "loss_func = nn.CrossEntropyLoss(torch.Tensor([1,100]))"
   ]
  },
  {
   "cell_type": "code",
   "execution_count": 34,
   "metadata": {},
   "outputs": [],
   "source": [
    "class FocalLoss(nn.Module):\n",
    "    def __init__(self, alpha=0.25, gamma=2):\n",
    "        super().__init__()\n",
    "        self.alpha = alpha\n",
    "        self.gamma = gamma\n",
    "    def forward(self, yPred:torch.float32, yTrue:torch.int64):\n",
    "        loss = torch.Tensor([0]).to('cuda')\n",
    "        yPred = yPred.softmax(axis=1)\n",
    "        for i in range(len(yPred)):\n",
    "            if yTrue[i]==0:\n",
    "                loss -= self.alpha*(1-yPred[i][0])**self.gamma*torch.log(yPred[i][0])\n",
    "            else:\n",
    "                loss -= (1-self.alpha)*yPred[i][0]**self.gamma*torch.log(1-yPred[i][0])\n",
    "        return loss/len(yPred)\n",
    "    \n",
    "loss_func = FocalLoss()"
   ]
  },
  {
   "cell_type": "code",
   "execution_count": 35,
   "metadata": {},
   "outputs": [],
   "source": [
    "def training(model, trainDataLoader, valDataLoader, epochs, optimizer, loss_func, history):\n",
    "    trainDataNum = len(trainDataset) \n",
    "    valDataNum = len(valDataset)\n",
    "    #trainDataNum = len(trainDataLoader)*trainDataLoader.batch_size\n",
    "    #valDataNum = len(valDataLoader)*valDataLoader.batch_size\n",
    "    for ep in range(epochs):\n",
    "        print(f\"Epoch: {ep+1}/{epochs}\")\n",
    "        # training loop\n",
    "        trainLoss, trainAcc = 0.0, 0.0\n",
    "        for i,(X,y) in enumerate(trainDataLoader):\n",
    "            X, y = X.to('cuda'), y.to('cuda')\n",
    "            # loss\n",
    "            optimizer.zero_grad()\n",
    "            pred = model(X)\n",
    "            loss = loss_func(pred,y.squeeze()) # pred:torch.float32(Bz,Prob), true:torch.int64(Bz) # dataLoader will let y be (Bz,1)\n",
    "            loss.backward()\n",
    "            optimizer.step()\n",
    "            trainLoss += loss.item() / trainDataNum\n",
    "            # acc\n",
    "            ypred = pred.argmax(axis=1)\n",
    "            trainAcc += int((ypred==y.squeeze()).sum()) / trainDataNum\n",
    "            #\n",
    "            print(f\"\\rbatch={i+1}/{len(trainDataLoader)}, trainLoss={trainLoss:.5f}, trainAcc={trainAcc:.5f}\", end=\"\")\n",
    "        history[\"trainLossL\"].append(trainLoss)\n",
    "        history[\"trainAccL\"].append(trainAcc)\n",
    "        print()\n",
    "        # validation loop\n",
    "        with torch.no_grad():\n",
    "            valLoss, valAcc = 0.0, 0.0\n",
    "            for i,(X,y) in enumerate(valDataLoader):\n",
    "                X, y = X.to('cuda'), y.to('cuda')\n",
    "                # loss\n",
    "                pred = model(X)\n",
    "                loss = loss_func(pred,y.squeeze())\n",
    "                valLoss += loss.item() / valDataNum\n",
    "                # acc\n",
    "                ypred = pred.argmax(axis=1)\n",
    "                valAcc += int((ypred==y.squeeze()).sum()) / valDataNum\n",
    "                #\n",
    "                print(f\"\\rbatch={i+1}/{len(valDataLoader)}, valLoss={valLoss:.5f}, valAcc={valAcc:.5f}\", end=\"\")\n",
    "            history[\"valLossL\"].append(valLoss)\n",
    "            history[\"valAccL\"].append(valAcc)\n",
    "            print()\n",
    "    return history\n",
    "\n",
    "history = {\"trainLossL\":[], \"trainAccL\":[], \"valLossL\":[], \"valAccL\":[]}"
   ]
  },
  {
   "cell_type": "code",
   "execution_count": 36,
   "metadata": {},
   "outputs": [
    {
     "name": "stdout",
     "output_type": "stream",
     "text": [
      "Epoch: 1/3\n",
      "batch=52/52, trainLoss=0.00017, trainAcc=0.97102\n",
      "batch=14/14, valLoss=0.00010, valAcc=0.99070\n",
      "Epoch: 2/3\n",
      "batch=52/52, trainLoss=0.00006, trainAcc=0.99034\n",
      "batch=14/14, valLoss=0.00004, valAcc=0.99535\n",
      "Epoch: 3/3\n",
      "batch=52/52, trainLoss=0.00003, trainAcc=0.99698\n",
      "batch=14/14, valLoss=0.00002, valAcc=1.00000\n"
     ]
    }
   ],
   "source": [
    "epochs = 3\n",
    "history = training(model, trainDataLoader, valDataLoader, epochs, optimizer, loss_func, history)"
   ]
  },
  {
   "cell_type": "code",
   "execution_count": 37,
   "metadata": {},
   "outputs": [
    {
     "name": "stdout",
     "output_type": "stream",
     "text": [
      "[[8, 0], [0, 852]]\n"
     ]
    }
   ],
   "source": [
    "TP, FP, TN, FN = 0, 0, 0, 0\n",
    "with torch.no_grad():\n",
    "    for i,(X,y) in enumerate(valDataLoader):\n",
    "        X, yTrue = X.to('cuda'), y.to('cuda')\n",
    "        yTrue = y.squeeze()\n",
    "        yPred = model(X).argmax(axis=1)\n",
    "        for j in range(len(yPred)):\n",
    "            if yTrue[j]==0 and yPred[j]==0:\n",
    "                TN+=1\n",
    "            elif yTrue[j]==1 and yPred[j]==1:\n",
    "                TP+=1\n",
    "            elif yTrue[j]==0 and yPred[j]==1:\n",
    "                FP+=1\n",
    "            else:\n",
    "                FN+=1\n",
    "        #break\n",
    "print([[TP, FP],[FN, TN]])"
   ]
  },
  {
   "cell_type": "code",
   "execution_count": 29,
   "metadata": {},
   "outputs": [
    {
     "data": {
      "text/plain": [
       "(0.9906976744186047, None, 0.0)"
      ]
     },
     "execution_count": 29,
     "metadata": {},
     "output_type": "execute_result"
    }
   ],
   "source": [
    "# cross entropy loss\n",
    "accuracy = (TP+TN)/(TP+TN+FP+FN)\n",
    "precision = TP/(TP+FP) if TP+FP!=0 else None\n",
    "recall = TP/(TP+FN)\n",
    "accuracy, precision, recall"
   ]
  },
  {
   "cell_type": "code",
   "execution_count": 38,
   "metadata": {},
   "outputs": [
    {
     "data": {
      "text/plain": [
       "(1.0, 1.0, 1.0)"
      ]
     },
     "execution_count": 38,
     "metadata": {},
     "output_type": "execute_result"
    }
   ],
   "source": [
    "# imbalance cross entropy loss\n",
    "accuracy = (TP+TN)/(TP+TN+FP+FN)\n",
    "precision = TP/(TP+FP) if TP+FP!=0 else None\n",
    "recall = TP/(TP+FN)\n",
    "accuracy, precision, recall"
   ]
  },
  {
   "cell_type": "code",
   "execution_count": 23,
   "metadata": {},
   "outputs": [
    {
     "data": {
      "text/plain": [
       "(0.9988372093023256, 1.0, 0.875)"
      ]
     },
     "execution_count": 23,
     "metadata": {},
     "output_type": "execute_result"
    }
   ],
   "source": [
    "# focal loss\n",
    "accuracy = (TP+TN)/(TP+TN+FP+FN)\n",
    "precision = TP/(TP+FP)\n",
    "recall = TP/(TP+FN)\n",
    "accuracy, precision, recall"
   ]
  },
  {
   "cell_type": "code",
   "execution_count": null,
   "metadata": {},
   "outputs": [],
   "source": []
  },
  {
   "cell_type": "code",
   "execution_count": null,
   "metadata": {},
   "outputs": [],
   "source": []
  }
 ],
 "metadata": {
  "kernelspec": {
   "display_name": "Python 3",
   "language": "python",
   "name": "python3"
  },
  "language_info": {
   "codemirror_mode": {
    "name": "ipython",
    "version": 3
   },
   "file_extension": ".py",
   "mimetype": "text/x-python",
   "name": "python",
   "nbconvert_exporter": "python",
   "pygments_lexer": "ipython3",
   "version": "3.6.10"
  }
 },
 "nbformat": 4,
 "nbformat_minor": 4
}
