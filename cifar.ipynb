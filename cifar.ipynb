{
 "cells": [
  {
   "cell_type": "code",
   "execution_count": 1,
   "id": "resistant-elder",
   "metadata": {},
   "outputs": [],
   "source": [
    "import torch\n",
    "from torchvision.datasets import CIFAR10"
   ]
  },
  {
   "cell_type": "code",
   "execution_count": 4,
   "id": "breeding-strike",
   "metadata": {},
   "outputs": [
    {
     "name": "stdout",
     "output_type": "stream",
     "text": [
      "Files already downloaded and verified\n",
      "Files already downloaded and verified\n",
      "341M\t../../_data/cifar10\n"
     ]
    }
   ],
   "source": [
    "trainset = CIFAR10(root=\"../../_data/cifar10\", train=True, download=True) # download=True means download all # train=True/False means return train/val part\n",
    "valset   = CIFAR10(root=\"../../_data/cifar10\", train=False, download=True)\n",
    "!du -sh ../../_data/cifar10"
   ]
  },
  {
   "cell_type": "code",
   "execution_count": 8,
   "id": "exempt-alpha",
   "metadata": {},
   "outputs": [
    {
     "name": "stdout",
     "output_type": "stream",
     "text": [
      "50000 10000 <class 'torchvision.datasets.cifar.CIFAR10'> <class 'torchvision.datasets.cifar.CIFAR10'>\n",
      "['__add__', '__class__', '__class_getitem__', '__delattr__', '__dict__', '__dir__', '__doc__', '__eq__', '__format__', '__ge__', '__getattribute__', '__getitem__', '__gt__', '__hash__', '__init__', '__init_subclass__', '__le__', '__len__', '__lt__', '__module__', '__ne__', '__new__', '__orig_bases__', '__parameters__', '__reduce__', '__reduce_ex__', '__repr__', '__setattr__', '__sizeof__', '__slots__', '__str__', '__subclasshook__', '__weakref__', '_check_integrity', '_format_transform_repr', '_is_protocol', '_load_meta', '_repr_indent', 'base_folder', 'class_to_idx', 'classes', 'data', 'download', 'extra_repr', 'filename', 'meta', 'root', 'target_transform', 'targets', 'test_list', 'tgz_md5', 'train', 'train_list', 'transform', 'transforms', 'url']\n",
      "cifar-10-batches-py ['airplane', 'automobile', 'bird', 'cat', 'deer', 'dog', 'frog', 'horse', 'ship', 'truck'] ../../_data/cifar10\n",
      "(32, 32) <class 'PIL.Image.Image'> 6\n"
     ]
    }
   ],
   "source": [
    "print( len(trainset), len(valset), type(trainset), type(valset) )\n",
    "print( dir(valset) )\n",
    "print( valset.base_folder, valset.classes, valset.root )\n",
    "\n",
    "for img,label in trainset:\n",
    "    print( img.size, type(img), label )\n",
    "    break"
   ]
  },
  {
   "cell_type": "code",
   "execution_count": 4,
   "id": "overall-disco",
   "metadata": {},
   "outputs": [
    {
     "data": {
      "text/plain": [
       "{'dataset': 'cifar10',\n",
       " 'data_path': './_data/cifar10/train',\n",
       " 'epochs': 30,\n",
       " 'batch_size': 6,\n",
       " 'lr': 0.0001,\n",
       " 'eval_every': 2,\n",
       " 'unimodal': False,\n",
       " 'plot_every_layer_summarization': True,\n",
       " 'use_layer_outputs': [2, 3, 4, 5, 6, 7, 8, 9, 10, 11],\n",
       " 'use_imagenet': True}"
      ]
     },
     "execution_count": 4,
     "metadata": {},
     "output_type": "execute_result"
    }
   ],
   "source": [
    "# args of https://github.com/bnbsking/Transformaly.git\n",
    "{'dataset': 'cifar10', 'data_path': './_data/cifar10/train', 'epochs': 30, 'batch_size': 6, 'lr': 0.0001, 'eval_every': 2, 'unimodal': False, 'plot_every_layer_summarization': True, 'use_layer_outputs': [2, 3, 4, 5, 6, 7, 8, 9, 10, 11], 'use_imagenet': True}"
   ]
  },
  {
   "cell_type": "code",
   "execution_count": null,
   "id": "floating-astrology",
   "metadata": {},
   "outputs": [],
   "source": []
  }
 ],
 "metadata": {
  "kernelspec": {
   "display_name": "Python 3",
   "language": "python",
   "name": "python3"
  },
  "language_info": {
   "codemirror_mode": {
    "name": "ipython",
    "version": 3
   },
   "file_extension": ".py",
   "mimetype": "text/x-python",
   "name": "python",
   "nbconvert_exporter": "python",
   "pygments_lexer": "ipython3",
   "version": "3.8.5"
  }
 },
 "nbformat": 4,
 "nbformat_minor": 5
}
