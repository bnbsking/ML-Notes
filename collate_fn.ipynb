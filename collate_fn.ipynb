{
 "cells": [
  {
   "cell_type": "code",
   "execution_count": 1,
   "metadata": {},
   "outputs": [
    {
     "name": "stdout",
     "output_type": "stream",
     "text": [
      "tensor([1., 1., 1.]) tensor(1.)\n",
      "tensor([2., 2., 2.]) tensor(2.)\n",
      "tensor([3., 3., 3.]) tensor(3.)\n",
      "tensor([4., 4., 4.]) tensor(4.)\n"
     ]
    }
   ],
   "source": [
    "import torch\n",
    "from torch.utils.data import TensorDataset, DataLoader\n",
    "\n",
    "X = torch.Tensor([[1,1,1], [2,2,2], [3,3,3], [4,4,4]])\n",
    "y = torch.Tensor([1,2,3,4])\n",
    "\n",
    "dataset = TensorDataset(X,y)\n",
    "for x,y in dataset:\n",
    "    print(x,y)"
   ]
  },
  {
   "cell_type": "code",
   "execution_count": 10,
   "metadata": {},
   "outputs": [
    {
     "name": "stdout",
     "output_type": "stream",
     "text": [
      "[tensor([[1., 1., 1.],\n",
      "        [2., 2., 2.]]), tensor([1., 2.])]\n",
      "[tensor([[3., 3., 3.],\n",
      "        [4., 4., 4.]]), tensor([3., 4.])]\n"
     ]
    }
   ],
   "source": [
    "for batch in DataLoader(dataset=dataset, batch_size=2):\n",
    "    print(batch)"
   ]
  },
  {
   "cell_type": "code",
   "execution_count": 12,
   "metadata": {},
   "outputs": [
    {
     "name": "stdout",
     "output_type": "stream",
     "text": [
      "[(tensor([1., 1., 1.]), tensor(1.)), (tensor([2., 2., 2.]), tensor(2.))]\n",
      "[(tensor([3., 3., 3.]), tensor(3.)), (tensor([4., 4., 4.]), tensor(4.))]\n"
     ]
    }
   ],
   "source": [
    "for batch in DataLoader(dataset=dataset, batch_size=2, collate_fn=lambda x:x):\n",
    "    print(batch)"
   ]
  },
  {
   "cell_type": "code",
   "execution_count": 50,
   "metadata": {},
   "outputs": [
    {
     "name": "stdout",
     "output_type": "stream",
     "text": [
      ">> [(tensor([1., 1., 1.]), tensor(1.)), (tensor([2., 2., 2.]), tensor(2.))]\n",
      "[tensor([[1., 1., 1.],\n",
      "        [2., 2., 2.]]), tensor([1., 2.])]\n",
      ">> [(tensor([3., 3., 3.]), tensor(3.)), (tensor([4., 4., 4.]), tensor(4.))]\n",
      "[tensor([[3., 3., 3.],\n",
      "        [4., 4., 4.]]), tensor([3., 4.])]\n"
     ]
    }
   ],
   "source": [
    "def collate_fn(x): # input a batch dataXY\n",
    "    print(\">>\", x)\n",
    "    batch = []\n",
    "    for j in range(len(x[0])):  # j=0,1 due to X,Y\n",
    "        M = []                  # List for each X,Y\n",
    "        for i in range(len(x)): # i=index_in_batch \n",
    "            M.append( x[i][j].unsqueeze(0) )\n",
    "        batch.append( torch.cat(M,0) )\n",
    "    return batch\n",
    "\n",
    "for batch in DataLoader(dataset=dataset, batch_size=2, collate_fn=collate_fn):\n",
    "    print(batch)"
   ]
  },
  {
   "cell_type": "code",
   "execution_count": null,
   "metadata": {},
   "outputs": [],
   "source": []
  }
 ],
 "metadata": {
  "kernelspec": {
   "display_name": "Python 3",
   "language": "python",
   "name": "python3"
  },
  "language_info": {
   "codemirror_mode": {
    "name": "ipython",
    "version": 3
   },
   "file_extension": ".py",
   "mimetype": "text/x-python",
   "name": "python",
   "nbconvert_exporter": "python",
   "pygments_lexer": "ipython3",
   "version": "3.6.9"
  }
 },
 "nbformat": 4,
 "nbformat_minor": 4
}
