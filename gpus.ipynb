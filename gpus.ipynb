{
 "cells": [
  {
   "cell_type": "markdown",
   "id": "ba21b0f3",
   "metadata": {},
   "source": [
    "### CUDA\n",
    "+ Packages:\n",
    "    + driver can't exist multiple versions but cudatoolkit can\n",
    "    | package | command | function | version |\n",
    "    | - | - | - | - |\n",
    "    | CUDA driver by NVIDIA | nvidia-smi | show driver version and lastest cudatoolkit version | e.g. 470.xxx |\n",
    "    | cudatoolkit by NVIDIA | nvcc --version | complete package includes bin and lib | e.g. /usr/local/cuda-11.2 |\n",
    "    | cudatoolkit by Conda  | conda list cudatoolkit \\| torch.version.cuda | Dynamic lib without bin for DL | e.g. ~/miniconda3/pkgs/cudatoolkit-10.1.243 |\n",
    "    \n",
    "+ Installation: Install 1 and 3 and is enough for DL\n",
    "    1. [NVIDIA driver](https://docs.nvidia.com/datacenter/tesla/tesla-installation-notes/index.html)\n",
    "    2. [NVIDIA cudatoolkit](https://developer.nvidia.com/cuda-downloads?target_os=Linux&target_arch=x86_64&Distribution=Ubuntu&target_version=20.04&target_type=deb_local)\n",
    "    3. [conda cudatoolkit+Pytorch](https://pytorch.org/get-started/previous-versions/)\n",
    "\n",
    "+ Env path:\n",
    "    | paths had to be set | meaning | e.g. |\n",
    "    | - | - | - |\n",
    "    | CUDA_HOME > CUDA_PATH > /usr/local/cuda* | cudatoolkit path | /usr/local/cuda* |\n",
    "    | PATH | cudatoolkit path | /usr/local/cuda* |\n",
    "    | LD_LIBRARY_PATH | compiling lib path | /usr/local/cuda*/lib64 |\n",
    "\n",
    "+ Pip:\n",
    "    + /usr/lib/python3/dist-packages: sudo apt install python-numpy\n",
    "    + /usr/local/lib/python3.6/dist-packages: sudo pip install numpy\n",
    "    + ~/.local/lib/python3.6/site-packages: pip install numpy\n",
    "    + Base env will share its packages to all envs. Do conda install -n <envs> pip to seperate packages in new env.\n",
    "\n",
    "+ Reference:\n",
    "    + [cuda和cudatoolkit](https://iter01.com/561967.html)\n",
    "    + [Installing Multiple CUDA & cuDNN Versions in Ubuntu](https://towardsdatascience.com/installing-multiple-cuda-cudnn-versions-in-ubuntu-fcb6aa5194e2)"
   ]
  },
  {
   "cell_type": "markdown",
   "id": "81f0f1e8",
   "metadata": {},
   "source": [
    "### Device"
   ]
  },
  {
   "cell_type": "code",
   "execution_count": 4,
   "id": "af2de715",
   "metadata": {},
   "outputs": [
    {
     "name": "stdout",
     "output_type": "stream",
     "text": [
      "True True NVIDIA GeForce GTX 1650 with Max-Q Design\n",
      "cuda\n"
     ]
    }
   ],
   "source": [
    "import torch\n",
    "import numpy as np\n",
    "\n",
    "print(torch.cuda.is_available(), torch.backends.cudnn.is_available(), torch.cuda.get_device_name(0))\n",
    "device = torch.device('cuda')\n",
    "print(device)"
   ]
  },
  {
   "cell_type": "markdown",
   "id": "2eaf67c8",
   "metadata": {},
   "source": [
    "### Tensor"
   ]
  },
  {
   "cell_type": "code",
   "execution_count": 168,
   "id": "80357af3",
   "metadata": {},
   "outputs": [
    {
     "name": "stdout",
     "output_type": "stream",
     "text": [
      "tensor([[1., 2., 3.],\n",
      "        [4., 5., 6.]]) <class 'torch.Tensor'> torch.Size([2, 3]) torch.float32 cpu False\n",
      "tensor([[0., 0., 0.],\n",
      "        [0., 0., 0.]]) <class 'torch.Tensor'> torch.Size([2, 3]) torch.float32 cpu False\n",
      "tensor([[0.7433, 0.8812, 0.0512],\n",
      "        [0.4459, 0.6041, 0.0789]]) <class 'torch.Tensor'> torch.Size([2, 3]) torch.float32 cpu False\n"
     ]
    }
   ],
   "source": [
    "T1 = torch.Tensor( [[1,2,3],[4,5,6]] ) # or torch.Tensor( np.array([[1,2,3],[4,5,6]]) )\n",
    "T2 = torch.zeros(2,3) # or torch.ones(2,3)\n",
    "T3 = torch.rand(2,3) # 0~1\n",
    "print(T1, type(T1), T1.shape, T1.dtype, T1.device, T1.requires_grad)\n",
    "print(T2, type(T2), T2.shape, T2.dtype, T2.device, T3.requires_grad)\n",
    "print(T3, type(T3), T3.shape, T3.dtype, T3.device, T3.requires_grad)"
   ]
  },
  {
   "cell_type": "code",
   "execution_count": 183,
   "id": "d0050cba",
   "metadata": {},
   "outputs": [
    {
     "name": "stdout",
     "output_type": "stream",
     "text": [
      "numpy: [[1. 2. 3.]\n",
      " [4. 5. 6.]]\n",
      "change_type: tensor([[1., 2., 3.],\n",
      "        [4., 5., 6.]], dtype=torch.float64)\n",
      "change_device: tensor([[1., 2., 3.],\n",
      "        [4., 5., 6.]], device='cuda:0', dtype=torch.float64)\n",
      "change_trainable: tensor([[1., 2., 3.],\n",
      "        [4., 5., 6.]], device='cuda:0', dtype=torch.float64,\n",
      "       requires_grad=True)\n",
      "[[1. 2. 3.]\n",
      " [4. 5. 6.]]\n"
     ]
    }
   ],
   "source": [
    "T = torch.Tensor( [[1,2,3],[4,5,6]] )\n",
    "print(\"numpy:\", T.numpy())\n",
    "\n",
    "T = T.type(torch.float64)\n",
    "print(\"change_type:\", T)\n",
    "T = T.to('cuda')\n",
    "print(\"change_device:\", T)\n",
    "T.requires_grad=True # float type only\n",
    "print(\"change_trainable:\", T)\n",
    "\n",
    "print(T.cpu().detach().numpy()) # T.numpy() will failed"
   ]
  },
  {
   "cell_type": "code",
   "execution_count": 199,
   "id": "7c51a91f",
   "metadata": {},
   "outputs": [
    {
     "name": "stdout",
     "output_type": "stream",
     "text": [
      "2 tensor([1., 2., 3.]) tensor(1.)\n",
      "tensor([[3., 4., 5.],\n",
      "        [6., 7., 8.]]) tensor([[-1.,  0.,  1.],\n",
      "        [ 2.,  3.,  4.]]) tensor([[ 2.,  4.,  6.],\n",
      "        [ 8., 10., 12.]]) tensor([[0.5000, 1.0000, 1.5000],\n",
      "        [2.0000, 2.5000, 3.0000]])\n",
      "tensor([[ 2.,  4.,  6.],\n",
      "        [ 8., 10., 12.]]) tensor([[0., 0., 0.],\n",
      "        [0., 0., 0.]]) tensor([[ 1.,  4.,  9.],\n",
      "        [16., 25., 36.]]) tensor([[1., 1., 1.],\n",
      "        [1., 1., 1.]])\n",
      "tensor([[1., 4.],\n",
      "        [2., 5.],\n",
      "        [3., 6.]])\n",
      "tensor([[14., 32.],\n",
      "        [32., 77.]])\n"
     ]
    }
   ],
   "source": [
    "T = torch.Tensor( [[1,2,3],[4,5,6]] )\n",
    "print( len(T), T[0], T[0][0] )\n",
    "print(T+2, T-2, T*2, T/2)\n",
    "print(T+T, T-T, T*T, T/T)\n",
    "print(T.T)\n",
    "print(T.matmul(T.T) )"
   ]
  },
  {
   "cell_type": "code",
   "execution_count": 170,
   "id": "8fe996a5",
   "metadata": {},
   "outputs": [
    {
     "name": "stdout",
     "output_type": "stream",
     "text": [
      "['T', '__abs__', '__add__', '__and__', '__array__', '__array_priority__', '__array_wrap__', '__bool__', '__class__', '__complex__', '__contains__', '__deepcopy__', '__delattr__', '__delitem__', '__dict__', '__dir__', '__div__', '__doc__', '__eq__', '__float__', '__floordiv__', '__format__', '__ge__', '__getattribute__', '__getitem__', '__gt__', '__hash__', '__iadd__', '__iand__', '__idiv__', '__ifloordiv__', '__ilshift__', '__imod__', '__imul__', '__index__', '__init__', '__init_subclass__', '__int__', '__invert__', '__ior__', '__ipow__', '__irshift__', '__isub__', '__iter__', '__itruediv__', '__ixor__', '__le__', '__len__', '__long__', '__lshift__', '__lt__', '__matmul__', '__mod__', '__module__', '__mul__', '__ne__', '__neg__', '__new__', '__nonzero__', '__or__', '__pos__', '__pow__', '__radd__', '__rdiv__', '__reduce__', '__reduce_ex__', '__repr__', '__reversed__', '__rfloordiv__', '__rmul__', '__rpow__', '__rshift__', '__rsub__', '__rtruediv__', '__setattr__', '__setitem__', '__setstate__', '__sizeof__', '__str__', '__sub__', '__subclasshook__', '__torch_function__', '__truediv__', '__weakref__', '__xor__', '_backward_hooks', '_base', '_cdata', '_coalesced_', '_dimI', '_dimV', '_grad', '_grad_fn', '_indices', '_is_view', '_make_subclass', '_nnz', '_reduce_ex_internal', '_to_sparse_csr', '_update_names', '_values', '_version', 'abs', 'abs_', 'absolute', 'absolute_', 'acos', 'acos_', 'acosh', 'acosh_', 'add', 'add_', 'addbmm', 'addbmm_', 'addcdiv', 'addcdiv_', 'addcmul', 'addcmul_', 'addmm', 'addmm_', 'addmv', 'addmv_', 'addr', 'addr_', 'align_as', 'align_to', 'all', 'allclose', 'amax', 'amin', 'angle', 'any', 'apply_', 'arccos', 'arccos_', 'arccosh', 'arccosh_', 'arcsin', 'arcsin_', 'arcsinh', 'arcsinh_', 'arctan', 'arctan_', 'arctanh', 'arctanh_', 'argmax', 'argmin', 'argsort', 'as_strided', 'as_strided_', 'as_subclass', 'asin', 'asin_', 'asinh', 'asinh_', 'atan', 'atan2', 'atan2_', 'atan_', 'atanh', 'atanh_', 'backward', 'baddbmm', 'baddbmm_', 'bernoulli', 'bernoulli_', 'bfloat16', 'bincount', 'bitwise_and', 'bitwise_and_', 'bitwise_not', 'bitwise_not_', 'bitwise_or', 'bitwise_or_', 'bitwise_xor', 'bitwise_xor_', 'bmm', 'bool', 'broadcast_to', 'byte', 'cauchy_', 'cdouble', 'ceil', 'ceil_', 'cfloat', 'char', 'cholesky', 'cholesky_inverse', 'cholesky_solve', 'chunk', 'clamp', 'clamp_', 'clamp_max', 'clamp_max_', 'clamp_min', 'clamp_min_', 'clip', 'clip_', 'clone', 'coalesce', 'col_indices', 'conj', 'contiguous', 'copy_', 'copysign', 'copysign_', 'cos', 'cos_', 'cosh', 'cosh_', 'count_nonzero', 'cpu', 'cross', 'crow_indices', 'cuda', 'cummax', 'cummin', 'cumprod', 'cumprod_', 'cumsum', 'cumsum_', 'data', 'data_ptr', 'deg2rad', 'deg2rad_', 'dense_dim', 'dequantize', 'det', 'detach', 'detach_', 'device', 'diag', 'diag_embed', 'diagflat', 'diagonal', 'diff', 'digamma', 'digamma_', 'dim', 'dist', 'div', 'div_', 'divide', 'divide_', 'dot', 'double', 'dsplit', 'dtype', 'eig', 'element_size', 'eq', 'eq_', 'equal', 'erf', 'erf_', 'erfc', 'erfc_', 'erfinv', 'erfinv_', 'exp', 'exp2', 'exp2_', 'exp_', 'expand', 'expand_as', 'expm1', 'expm1_', 'exponential_', 'fill_', 'fill_diagonal_', 'fix', 'fix_', 'flatten', 'flip', 'fliplr', 'flipud', 'float', 'float_power', 'float_power_', 'floor', 'floor_', 'floor_divide', 'floor_divide_', 'fmax', 'fmin', 'fmod', 'fmod_', 'frac', 'frac_', 'frexp', 'gather', 'gcd', 'gcd_', 'ge', 'ge_', 'geometric_', 'geqrf', 'ger', 'get_device', 'grad', 'grad_fn', 'greater', 'greater_', 'greater_equal', 'greater_equal_', 'gt', 'gt_', 'half', 'hardshrink', 'has_names', 'heaviside', 'heaviside_', 'histc', 'hsplit', 'hypot', 'hypot_', 'i0', 'i0_', 'igamma', 'igamma_', 'igammac', 'igammac_', 'imag', 'index_add', 'index_add_', 'index_copy', 'index_copy_', 'index_fill', 'index_fill_', 'index_put', 'index_put_', 'index_select', 'indices', 'inner', 'int', 'int_repr', 'inverse', 'is_coalesced', 'is_complex', 'is_contiguous', 'is_cuda', 'is_distributed', 'is_floating_point', 'is_leaf', 'is_meta', 'is_mkldnn', 'is_mlc', 'is_nonzero', 'is_pinned', 'is_quantized', 'is_same_size', 'is_set_to', 'is_shared', 'is_signed', 'is_sparse', 'is_sparse_csr', 'is_vulkan', 'is_xpu', 'isclose', 'isfinite', 'isinf', 'isnan', 'isneginf', 'isposinf', 'isreal', 'istft', 'item', 'kron', 'kthvalue', 'layout', 'lcm', 'lcm_', 'ldexp', 'ldexp_', 'le', 'le_', 'lerp', 'lerp_', 'less', 'less_', 'less_equal', 'less_equal_', 'lgamma', 'lgamma_', 'log', 'log10', 'log10_', 'log1p', 'log1p_', 'log2', 'log2_', 'log_', 'log_normal_', 'log_softmax', 'logaddexp', 'logaddexp2', 'logcumsumexp', 'logdet', 'logical_and', 'logical_and_', 'logical_not', 'logical_not_', 'logical_or', 'logical_or_', 'logical_xor', 'logical_xor_', 'logit', 'logit_', 'logsumexp', 'long', 'lstsq', 'lt', 'lt_', 'lu', 'lu_solve', 'map2_', 'map_', 'masked_fill', 'masked_fill_', 'masked_scatter', 'masked_scatter_', 'masked_select', 'matmul', 'matrix_exp', 'matrix_power', 'max', 'maximum', 'mean', 'median', 'min', 'minimum', 'mm', 'mode', 'moveaxis', 'movedim', 'msort', 'mul', 'mul_', 'multinomial', 'multiply', 'multiply_', 'mv', 'mvlgamma', 'mvlgamma_', 'name', 'names', 'nan_to_num', 'nan_to_num_', 'nanmedian', 'nanquantile', 'nansum', 'narrow', 'narrow_copy', 'ndim', 'ndimension', 'ne', 'ne_', 'neg', 'neg_', 'negative', 'negative_', 'nelement', 'new', 'new_empty', 'new_empty_strided', 'new_full', 'new_ones', 'new_tensor', 'new_zeros', 'nextafter', 'nextafter_', 'nonzero', 'norm', 'normal_', 'not_equal', 'not_equal_', 'numel', 'numpy', 'orgqr', 'ormqr', 'outer', 'output_nr', 'permute', 'pin_memory', 'pinverse', 'polygamma', 'polygamma_', 'positive', 'pow', 'pow_', 'prelu', 'prod', 'put', 'put_', 'q_per_channel_axis', 'q_per_channel_scales', 'q_per_channel_zero_points', 'q_scale', 'q_zero_point', 'qr', 'qscheme', 'quantile', 'rad2deg', 'rad2deg_', 'random_', 'ravel', 'real', 'reciprocal', 'reciprocal_', 'record_stream', 'refine_names', 'register_hook', 'reinforce', 'relu', 'relu_', 'remainder', 'remainder_', 'rename', 'rename_', 'renorm', 'renorm_', 'repeat', 'repeat_interleave', 'requires_grad', 'requires_grad_', 'reshape', 'reshape_as', 'resize', 'resize_', 'resize_as', 'resize_as_', 'retain_grad', 'roll', 'rot90', 'round', 'round_', 'rsqrt', 'rsqrt_', 'scatter', 'scatter_', 'scatter_add', 'scatter_add_', 'select', 'set_', 'sgn', 'sgn_', 'shape', 'share_memory_', 'short', 'sigmoid', 'sigmoid_', 'sign', 'sign_', 'signbit', 'sin', 'sin_', 'sinc', 'sinc_', 'sinh', 'sinh_', 'size', 'slogdet', 'smm', 'softmax', 'solve', 'sort', 'sparse_dim', 'sparse_mask', 'sparse_resize_', 'sparse_resize_and_clear_', 'split', 'split_with_sizes', 'sqrt', 'sqrt_', 'square', 'square_', 'squeeze', 'squeeze_', 'sspaddmm', 'std', 'stft', 'storage', 'storage_offset', 'storage_type', 'stride', 'sub', 'sub_', 'subtract', 'subtract_', 'sum', 'sum_to_size', 'svd', 'swapaxes', 'swapaxes_', 'swapdims', 'swapdims_', 'symeig', 't', 't_', 'take', 'take_along_dim', 'tan', 'tan_', 'tanh', 'tanh_', 'tensor_split', 'tile', 'to', 'to_dense', 'to_mkldnn', 'to_sparse', 'tolist', 'topk', 'trace', 'transpose', 'transpose_', 'triangular_solve', 'tril', 'tril_', 'triu', 'triu_', 'true_divide', 'true_divide_', 'trunc', 'trunc_', 'type', 'type_as', 'unbind', 'unflatten', 'unfold', 'uniform_', 'unique', 'unique_consecutive', 'unsafe_chunk', 'unsafe_split', 'unsafe_split_with_sizes', 'unsqueeze', 'unsqueeze_', 'values', 'var', 'vdot', 'view', 'view_as', 'vsplit', 'where', 'xlogy', 'xlogy_', 'xpu', 'zero_']\n"
     ]
    }
   ],
   "source": [
    "print( dir(T1) )"
   ]
  },
  {
   "cell_type": "code",
   "execution_count": 171,
   "id": "6bfbea55",
   "metadata": {},
   "outputs": [
    {
     "name": "stdout",
     "output_type": "stream",
     "text": [
      "numpy: [[ 0.  1. -2.]\n",
      " [-3. -4.  5.]]\n",
      "abs: tensor([[0., 1., 2.],\n",
      "        [3., 4., 5.]])\n",
      "sin: tensor([[ 0.0000,  0.8415, -0.9093],\n",
      "        [-0.1411,  0.7568, -0.9589]])\n",
      "mean: tensor([-0.3333, -0.6667])\n",
      "std: tensor([1.5275, 4.9329])\n",
      "flatten: tensor([ 0.,  1., -2., -3., -4.,  5.])\n",
      "reshape: tensor([[ 0.,  1.],\n",
      "        [-2., -3.],\n",
      "        [-4.,  5.]])\n",
      "permute: tensor([[ 0., -3.],\n",
      "        [ 1., -4.],\n",
      "        [-2.,  5.]])\n"
     ]
    }
   ],
   "source": [
    "T = torch.Tensor([[0,1,-2],[-3,-4,5]])\n",
    "print( \"numpy:\", T.numpy() )\n",
    "print( \"abs:\", (-T).abs() )\n",
    "print( \"sin:\", T.sin() )\n",
    "print( \"mean:\", T.mean(axis=1) )\n",
    "print( \"std:\", T.std(axis=1) )\n",
    "print( \"flatten:\", T.flatten() )\n",
    "print( \"reshape:\", T.reshape(3,2) )\n",
    "print( \"permute:\", T.permute(1,0) )\n",
    "# or torch.xxx(T,args) e.g. torch.mean(T,axis=1)"
   ]
  },
  {
   "cell_type": "code",
   "execution_count": 172,
   "id": "b6afb2db",
   "metadata": {},
   "outputs": [
    {
     "name": "stdout",
     "output_type": "stream",
     "text": [
      "tensor([5., 1.]) tensor([1, 2])\n",
      "tensor([1., 5.]) tensor([1, 0])\n"
     ]
    }
   ],
   "source": [
    "T = torch.Tensor([[0,5,-2],[-3,-4,1]])\n",
    "values, indices = T.max(axis=1)\n",
    "print(values, indices)\n",
    "\n",
    "values, indices = T.max(axis=1)[0].sort()\n",
    "print(values, indices)"
   ]
  },
  {
   "cell_type": "code",
   "execution_count": 173,
   "id": "020b2dee",
   "metadata": {},
   "outputs": [
    {
     "name": "stdout",
     "output_type": "stream",
     "text": [
      "tensor([[1., 2., 3.],\n",
      "        [4., 5., 6.]]) tensor([[ 2.,  4.,  6.],\n",
      "        [ 8., 10., 12.]])\n"
     ]
    }
   ],
   "source": [
    "T = torch.Tensor([[1,2,3],[4,5,6]])\n",
    "U = T.clone()\n",
    "U.apply_(lambda d:d*2) # modify directly without return # end with _ means directly change\n",
    "print( T, U )"
   ]
  },
  {
   "cell_type": "code",
   "execution_count": 174,
   "id": "327bb3db",
   "metadata": {
    "scrolled": true
   },
   "outputs": [
    {
     "name": "stdout",
     "output_type": "stream",
     "text": [
      "cat0: tensor([[ 1.,  2.,  3.],\n",
      "        [ 4.,  5.,  6.],\n",
      "        [ 7.,  8.,  9.],\n",
      "        [10., 11., 12.]])\n",
      "cat1: tensor([[ 1.,  2.,  3.,  7.,  8.,  9.],\n",
      "        [ 4.,  5.,  6., 10., 11., 12.]])\n",
      "stack: tensor([[[ 1.,  2.,  3.],\n",
      "         [ 4.,  5.,  6.]],\n",
      "\n",
      "        [[ 7.,  8.,  9.],\n",
      "         [10., 11., 12.]]])\n"
     ]
    }
   ],
   "source": [
    "T1 = torch.Tensor( [[1,2,3],[4,5,6]] )\n",
    "T2 = torch.Tensor( [[7,8,9],[10,11,12]] )\n",
    "print(\"cat0:\", torch.cat([T1,T2],axis=0) )\n",
    "print(\"cat1:\", torch.cat([T1,T2],axis=1) )\n",
    "print(\"stack:\", torch.stack([T1,T2]) )"
   ]
  },
  {
   "cell_type": "code",
   "execution_count": 175,
   "id": "3437be58",
   "metadata": {},
   "outputs": [
    {
     "name": "stdout",
     "output_type": "stream",
     "text": [
      "original: tensor([[[1., 2., 3.]]]) torch.Size([1, 1, 3])\n",
      "squeeze: tensor([1., 2., 3.]) torch.Size([3])\n",
      "unsqueeze: tensor([[1., 2., 3.]]) torch.Size([1, 3])\n"
     ]
    }
   ],
   "source": [
    "T = torch.Tensor([[[1,2,3]]])\n",
    "print(\"original:\", T, T.shape)\n",
    "U = T.squeeze()\n",
    "print(\"squeeze:\", U, U.shape )\n",
    "V = U.unsqueeze(axis=0)\n",
    "print(\"unsqueeze:\", V, V.shape)"
   ]
  },
  {
   "cell_type": "code",
   "execution_count": null,
   "id": "79631780",
   "metadata": {},
   "outputs": [],
   "source": []
  }
 ],
 "metadata": {
  "kernelspec": {
   "display_name": "Python 3",
   "language": "python",
   "name": "python3"
  },
  "language_info": {
   "codemirror_mode": {
    "name": "ipython",
    "version": 3
   },
   "file_extension": ".py",
   "mimetype": "text/x-python",
   "name": "python",
   "nbconvert_exporter": "python",
   "pygments_lexer": "ipython3",
   "version": "3.9.6"
  },
  "vscode": {
   "interpreter": {
    "hash": "31f2aee4e71d21fbe5cf8b01ff0e069b9275f58929596ceb00d14d90e3e16cd6"
   }
  }
 },
 "nbformat": 4,
 "nbformat_minor": 5
}
